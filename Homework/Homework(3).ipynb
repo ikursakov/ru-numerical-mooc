{
 "cells": [
  {
   "cell_type": "code",
   "execution_count": 1,
   "metadata": {
    "collapsed": true
   },
   "outputs": [],
   "source": [
    "from math import sin, cos, log\n",
    "import numpy\n",
    "from matplotlib import pyplot\n",
    "%matplotlib inline\n",
    "from matplotlib import rcParams\n",
    "rcParams['font.family'] = 'serif'\n",
    "rcParams['font.size'] = 16"
   ]
  },
  {
   "cell_type": "code",
   "execution_count": 2,
   "metadata": {
    "collapsed": true
   },
   "outputs": [],
   "source": [
    "def f(u):\n",
    "    \"\"\"Возвращает численное значение в правой части \n",
    "    системы уравнений фугоидного движения\n",
    "    \"\"\"\n",
    "    \n",
    "    v = u[0]\n",
    "    theta = u[1]\n",
    "    x = u[2]\n",
    "    y = u[3]\n",
    "    return numpy.array([-g*sin(theta) - C_D/C_L*g/v_t**2*v**2,\n",
    "                      -g*cos(theta)/v + g/v_t**2*v,\n",
    "                      v*cos(theta),\n",
    "                      v*sin(theta)])"
   ]
  },
  {
   "cell_type": "code",
   "execution_count": 3,
   "metadata": {
    "collapsed": true
   },
   "outputs": [],
   "source": [
    "#определение функции Эйлера с пересчётом\n",
    "def euler_midpoint_step(u, f, dt):\n",
    "    \"\"\"\n",
    "    Возвращает численное решение методом Эйлера на шаге n+1\n",
    "    \n",
    "    u: массив перменных float\n",
    "    f: функция, для которой вычисляестся правая часть\n",
    "    dt: шаг по времени\n",
    "    \n",
    "    \"\"\"\n",
    "    u_star = u + 0.5*dt * f(u)\n",
    "    return u + dt * f(u_star)"
   ]
  },
  {
   "cell_type": "code",
   "execution_count": 4,
   "metadata": {
    "collapsed": true
   },
   "outputs": [],
   "source": [
    "def get_diffgrid(u_current, u_fine, dt):\n",
    "    \"\"\"\n",
    "    Возвращает разность между разными решениями\n",
    "    \n",
    "    u_current: массив переменных типа float, текущее решение\n",
    "    u_finest: массив переменных типа float, сравниваемое значение\n",
    "    dt: шаг по времени\n",
    "    \n",
    "    diffgrid: разница, вычисленная по норме L1\n",
    "    \"\"\"\n",
    "    \n",
    "    N_current = len(u_current[:,0])\n",
    "    N_fine = len(u_fine[:,0])\n",
    "   \n",
    "    grid_size_ratio = ceil(N_fine/N_current)\n",
    "    \n",
    "    diffgrid = dt * numpy.sum( numpy.abs(\\\n",
    "            u_current[:,2]- u_fine[::grid_size_ratio,2])) \n",
    "    \n",
    "    return diffgrid"
   ]
  },
  {
   "cell_type": "code",
   "execution_count": 8,
   "metadata": {
    "collapsed": true
   },
   "outputs": [],
   "source": [
    "#модельные параметры\n",
    "T = 100\n",
    "g = 9.8      #g\n",
    "v_t = 4.9   #триммерная скорость\n",
    "C_D = 1/5  #коэффициент сопротивления или D/L\n",
    "C_L = 1   \n",
    "\n",
    "#начальные условия\n",
    "v0 = 20*v_t     #начальная скорость\n",
    "theta0 = numpy.pi/8 #начальный наклон траектории\n",
    "x0 = 0     #горизонтальное положение\n",
    "y0 = 2  #начальная высота"
   ]
  },
  {
   "cell_type": "code",
   "execution_count": null,
   "metadata": {
    "collapsed": false
   },
   "outputs": [],
   "source": [
    "r = 2\n",
    "h = 0.001\n",
    "\n",
    "dt_values2 = numpy.array([h, r*h, r**2*h])\n",
    "u_values2 = numpy.empty_like(dt_values2, dtype=numpy.ndarray)\n",
    "\n",
    "diffgrid2 = numpy.empty(2)\n",
    "\n",
    "for i, dt in enumerate(dt_values2):\n",
    "    \n",
    "    N = int(T/dt) + 1 \n",
    "    t = numpy.linspace(0.0, T, N)\n",
    "    u = numpy.empty((N, 4))\n",
    "    u[0] = numpy.array([v0, theta0, x0, y0])\n",
    "\n",
    "    for n in range(N-1):\n",
    "        u[n+1] = euler_midpoint_step(u[n], f, dt)\n",
    "    \n",
    "    u_values2[i] = u\n",
    "    \n",
    "\n",
    "#расчет разницы f2-f1\n",
    "diffgrid2[0] = get_diffgrid(u_values2[1], u_values2[0], dt_values2[1])\n",
    "\n",
    "#расчет разницы f3-f2\n",
    "diffgrid2[1] = get_diffgrid(u_values2[2], u_values2[1], dt_values2[2])\n",
    "\n",
    "#расчет порядка сходимости\n",
    "p = (log(diffgrid2[1]) - log(diffgrid2[0])) / log(r)\n",
    "\n",
    "print('The order of convergence is p = {:.3f}'.format(p));"
   ]
  },
  {
   "cell_type": "code",
   "execution_count": null,
   "metadata": {
    "collapsed": true
   },
   "outputs": [],
   "source": []
  }
 ],
 "metadata": {
  "anaconda-cloud": {},
  "kernelspec": {
   "display_name": "Python [Root]",
   "language": "python",
   "name": "Python [Root]"
  },
  "language_info": {
   "codemirror_mode": {
    "name": "ipython",
    "version": 3
   },
   "file_extension": ".py",
   "mimetype": "text/x-python",
   "name": "python",
   "nbconvert_exporter": "python",
   "pygments_lexer": "ipython3",
   "version": "3.5.2"
  }
 },
 "nbformat": 4,
 "nbformat_minor": 0
}
