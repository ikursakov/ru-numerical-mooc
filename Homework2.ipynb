{
 "cells": [
  {
   "cell_type": "code",
   "execution_count": 26,
   "metadata": {
    "collapsed": true
   },
   "outputs": [],
   "source": [
    "from math import sin, cos, log, ceil\n",
    "import numpy\n",
    "from scipy import optimize\n",
    "from matplotlib import pyplot\n",
    "%matplotlib inline\n",
    "from matplotlib import rcParams\n",
    "rcParams['font.family'] = 'serif'\n",
    "rcParams['font.size'] = 16"
   ]
  },
  {
   "cell_type": "code",
   "execution_count": 27,
   "metadata": {
    "collapsed": true
   },
   "outputs": [],
   "source": [
    "def f(u):\n",
    "    \"\"\"Returns the right-hand side of the phugoid system of equations.\n",
    "    \n",
    "    Parameters\n",
    "    ----------\n",
    "    u : array of float\n",
    "        array containing the solution at time n.\n",
    "        \n",
    "    Returns\n",
    "    -------\n",
    "    dudt : array of float\n",
    "        array containing the RHS given u.\n",
    "    \"\"\"\n",
    "    \n",
    "    v = u[0]\n",
    "    theta = u[1]\n",
    "    x = u[2]\n",
    "    y = u[3]\n",
    "    return numpy.array([-g*sin(theta) - C_D/C_L*g/v_t**2*v**2,\n",
    "                      -g*cos(theta)/v + g/v_t**2*v,\n",
    "                      v*cos(theta),\n",
    "                      v*sin(theta)])"
   ]
  },
  {
   "cell_type": "code",
   "execution_count": 28,
   "metadata": {
    "collapsed": true
   },
   "outputs": [],
   "source": [
    "def euler_step(u, f, dt):\n",
    "    \"\"\"Returns the solution at the next time-step using Euler's method.\n",
    "    \n",
    "    Parameters\n",
    "    ----------\n",
    "    u : array of float\n",
    "        solution at the previous time-step.\n",
    "    f : function\n",
    "        function to compute the right hand-side of the system of equations.\n",
    "    dt : float\n",
    "        time-increment.\n",
    "    \n",
    "    Returns\n",
    "    -------\n",
    "    u_n_plus_1 : array of float\n",
    "        approximate solution at the next time step.\n",
    "    \"\"\"\n",
    "    \n",
    "    return u + dt * f(u)"
   ]
  },
  {
   "cell_type": "code",
   "execution_count": 29,
   "metadata": {
    "collapsed": true
   },
   "outputs": [],
   "source": [
    "# model parameters:\n",
    "g = 9.8      # gravity in m s^{-2}\n",
    "v_t = 4.9   # trim velocity in m s^{-1}   \n",
    "C_D = 1/5  # drag coefficient --- or D/L if C_L=1\n",
    "C_L = 1   # for convenience, use C_L = 1\n",
    "\n",
    "### set initial conditions ###\n",
    "v0 = 20*v_t     # start at the trim velocity (or add a delta)\n",
    "theta0 = numpy.pi/8 # initial angle of trajectory\n",
    "x0 = 0     # horizotal position is arbitrary\n",
    "y0 = 2  # initial altitude"
   ]
  },
  {
   "cell_type": "code",
   "execution_count": 8,
   "metadata": {
    "collapsed": false
   },
   "outputs": [],
   "source": [
    "T =300                      # final time\n",
    "dt = 0.001                           # time increment\n",
    "N = int(T/dt) + 1                  # number of time-steps\n",
    "t = numpy.linspace(0, T, N)      # time discretization\n",
    "\n",
    "# initialize the array containing the solution for each time-step\n",
    "u = numpy.empty((N, 4))\n",
    "u[0] = numpy.array([v0, theta0, x0, y0])# fill 1st element with initial values\n",
    "\n",
    "n = 0\n",
    "# time loop - Euler method\n",
    "while u[n, 3] >= 0:\n",
    "    \n",
    "    u[n+1] = euler_step(u[n], f, dt)\n",
    "    n+=1\n",
    "    #if u[n, 3] >20:\n",
    "        #print('erebor')\n",
    "        #break"
   ]
  },
  {
   "cell_type": "code",
   "execution_count": null,
   "metadata": {
    "collapsed": true
   },
   "outputs": [],
   "source": []
  },
  {
   "cell_type": "code",
   "execution_count": 7,
   "metadata": {
    "collapsed": true
   },
   "outputs": [],
   "source": [
    "def f1(x):\n",
    "    return numpy.array([sin(numpy.pi/2*x)/x])"
   ]
  },
  {
   "cell_type": "code",
   "execution_count": 8,
   "metadata": {
    "collapsed": false
   },
   "outputs": [
    {
     "data": {
      "text/plain": [
       "array([ 1.])"
      ]
     },
     "execution_count": 8,
     "metadata": {},
     "output_type": "execute_result"
    }
   ],
   "source": [
    "f1(1)"
   ]
  },
  {
   "cell_type": "code",
   "execution_count": 9,
   "metadata": {
    "collapsed": false
   },
   "outputs": [],
   "source": [
    "x1 = numpy.linspace(-10, 10, 400)\n",
    "y1 = numpy.empty_like(x1)\n",
    "#print(x1)\n",
    "#print(y1)\n",
    "for j in range(len(x1)):\n",
    "    \n",
    "    y1[j] = f1(x1[j])"
   ]
  },
  {
   "cell_type": "code",
   "execution_count": 12,
   "metadata": {
    "collapsed": true
   },
   "outputs": [],
   "source": [
    "a = optimize.minimize"
   ]
  },
  {
   "cell_type": "code",
   "execution_count": 13,
   "metadata": {
    "collapsed": false
   },
   "outputs": [
    {
     "data": {
      "image/png": "[encoded data removed]",
      "text/plain": [
       "<matplotlib.figure.Figure at 0x7dd9cf8>"
      ]
     },
     "metadata": {},
     "output_type": "display_data"
    }
   ],
   "source": [
    "pyplot.figure(figsize=(8,6))\n",
    "pyplot.grid(True)\n",
    "#pyplot.xlim(0,100)\n",
    "#pyplot.ylim(0,300)\n",
    "pyplot.xlabel(r'x1', fontsize=18)\n",
    "pyplot.ylabel(r'y1', fontsize=18)\n",
    "pyplot.plot(x1,y1, 'blue', lw=2);"
   ]
  },
  {
   "cell_type": "code",
   "execution_count": 14,
   "metadata": {
    "collapsed": false
   },
   "outputs": [
    {
     "ename": "TypeError",
     "evalue": "minimize() missing 2 required positional arguments: 'fun' and 'x0'",
     "output_type": "error",
     "traceback": [
      "\u001b[1;31m---------------------------------------------------------------------------\u001b[0m",
      "\u001b[1;31mTypeError\u001b[0m                                 Traceback (most recent call last)",
      "\u001b[1;32m<ipython-input-14-c0153301bbe4>\u001b[0m in \u001b[0;36m<module>\u001b[1;34m()\u001b[0m\n\u001b[0;32m      1\u001b[0m \u001b[1;33m\u001b[0m\u001b[0m\n\u001b[1;32m----> 2\u001b[1;33m \u001b[0moptimize\u001b[0m\u001b[1;33m.\u001b[0m\u001b[0mminimize\u001b[0m\u001b[1;33m(\u001b[0m\u001b[1;33m)\u001b[0m\u001b[1;33m\u001b[0m\u001b[0m\n\u001b[0m",
      "\u001b[1;31mTypeError\u001b[0m: minimize() missing 2 required positional arguments: 'fun' and 'x0'"
     ]
    }
   ],
   "source": [
    "\n",
    "optimize.minimize()"
   ]
  },
  {
   "cell_type": "code",
   "execution_count": 15,
   "metadata": {
    "collapsed": false
   },
   "outputs": [
    {
     "name": "stdout",
     "output_type": "stream",
     "text": [
      "16.2377435175\n",
      "6.71350519312\n",
      "[ 2.          2.03750298  2.07825812  2.12212148  2.16894917  2.21859765\n",
      "  2.27092403  2.32578632  2.38304363  2.44255644  2.50418675  2.56779831\n",
      "  2.63325675  2.70042974  2.76918714  2.83940112  2.91094626  2.98369965\n",
      "  3.05754098  3.13235264  3.20801973  3.28443018  3.36147475  3.43904709\n",
      "  3.51704377  3.5953643   3.67391114  3.75258973  3.83130848  3.90997875\n",
      "  3.98851489  4.06683418  4.14485684  4.22250603  4.29970775  4.37639092\n",
      "  4.45248726  4.52793129  4.60266031  4.67661433  4.74973605  4.82197081\n",
      "  4.89326656  4.96357377  5.03284546  5.10103707  5.16810646  5.23401385\n",
      "  5.29872176  5.36219496  5.42440044  5.48530733  5.54488684  5.60311227\n",
      "  5.65995887  5.71540384  5.7694263   5.82200717  5.87312916  5.92277672\n",
      "  5.970936    6.01759474  6.0627423   6.10636955  6.14846885  6.18903399\n",
      "  6.22806016  6.26554388  6.30148297  6.33587648  6.3687247   6.40002904\n",
      "  6.42979206  6.45801737  6.48470964  6.5098745   6.53351857  6.55564935\n",
      "  6.57627524  6.59540547  6.61305008  6.62921986  6.64392634  6.65718175\n",
      "  6.668999    6.67939161  6.68837371  6.69596     6.70216573  6.70700665\n",
      "  6.710499    6.71265947  6.71350519  6.71305369  6.71132288  6.70833102\n",
      "  6.70409669  6.69863881  6.69197655  6.68412936  6.67511694  6.66495919\n",
      "  6.65367623  6.64128836  6.62781604  6.61327988  6.59770061  6.5810991\n",
      "  6.56349629  6.54491321  6.52537095  6.50489067  6.48349355  6.46120081\n",
      "  6.43803365  6.41401331  6.38916099  6.36349787  6.3370451   6.30982379\n",
      "  6.28185497  6.25315962  6.22375864  6.19367285  6.16292297  6.13152961\n",
      "  6.0995133   6.06689441  6.03369322  5.99992986  5.96562432  5.93079647\n",
      "  5.89546598  5.85965242  5.82337516  5.78665341  5.74950622  5.71195246\n",
      "  5.6740108   5.63569975  5.59703761  5.55804251  5.51873236  5.47912489\n",
      "  5.43923761  5.39908785  5.3586927   5.31806907  5.27723363  5.23620286\n",
      "  5.19499301  5.15362012  5.11210001  5.07044825  5.02868024  4.98681112\n",
      "  4.94485581  4.90282901  4.86074521  4.81861864  4.77646333  4.73429307\n",
      "  4.69212143  4.64996175  4.60782714  4.56573048  4.52368444  4.48170145\n",
      "  4.4397937   4.39797319  4.35625166  4.31464064  4.27315143  4.23179513\n",
      "  4.19058259  4.14952444  4.10863111  4.0679128   4.02737948  3.98704092\n",
      "  3.94690667  3.90698606  3.86728822  3.82782204  3.78859624  3.7496193\n",
      "  3.7108995   3.67244492  3.63426344  3.59636273  3.55875025  3.52143327\n",
      "  3.48441888  3.44771394  3.41132515  3.375259    3.33952178  3.30411961\n",
      "  3.26905843  3.23434396]\n"
     ]
    }
   ],
   "source": [
    "#print(max(y_arr[:,3]))\n",
    "#print(y_arr[:,3])\n",
    "print(max(u[:,2]))\n",
    "print(max(u[:,3]))\n",
    "print(u[0:200,3])\n",
    "\n"
   ]
  },
  {
   "cell_type": "code",
   "execution_count": null,
   "metadata": {
    "collapsed": true
   },
   "outputs": [],
   "source": []
  },
  {
   "cell_type": "code",
   "execution_count": 16,
   "metadata": {
    "collapsed": false
   },
   "outputs": [],
   "source": [
    "x = u[u[:,3]>0,2]\n",
    "y = u[u[:,3]>0,3]\n"
   ]
  },
  {
   "cell_type": "code",
   "execution_count": 17,
   "metadata": {
    "collapsed": false,
    "scrolled": true
   },
   "outputs": [
    {
     "data": {
      "image/png": "[encoded data removed]",
      "text/plain": [
       "<matplotlib.figure.Figure at 0x7df9d68>"
      ]
     },
     "metadata": {},
     "output_type": "display_data"
    }
   ],
   "source": [
    "# visualization of the path\n",
    "pyplot.figure(figsize=(8,6))\n",
    "pyplot.grid(True)\n",
    "#pyplot.xlim(0,100)\n",
    "#pyplot.ylim(0,300)\n",
    "pyplot.xlabel(r'x', fontsize=18)\n",
    "pyplot.ylabel(r'y', fontsize=18)\n",
    "pyplot.title('Glider trajectory, flight time = %.2f' % T, fontsize=18)\n",
    "pyplot.plot(x,y, 'blue', lw=2);"
   ]
  },
  {
   "cell_type": "code",
   "execution_count": 18,
   "metadata": {
    "collapsed": false
   },
   "outputs": [],
   "source": [
    "# get the glider's position with respect to the time\n",
    "#x = u[u[:,3]<3,2]\n",
    "#y = u[u[:,3]<3,3]"
   ]
  },
  {
   "cell_type": "code",
   "execution_count": null,
   "metadata": {
    "collapsed": true
   },
   "outputs": [],
   "source": []
  },
  {
   "cell_type": "code",
   "execution_count": 34,
   "metadata": {
    "collapsed": true
   },
   "outputs": [],
   "source": [
    "def funcall(x6):\n",
    "    \n",
    "    g = 9.8      # gravity in m s^{-2}\n",
    "    v_t = 4.9   # trim velocity in m s^{-1}   \n",
    "    C_D = 1/5  # drag coefficient --- or D/L if C_L=1\n",
    "    C_L = 1   # for convenience, use C_L = 1\n",
    "    x0 = 0     # horizotal position is arbitrary\n",
    "    y0 = 2  # initial altitude\n",
    "    T =300                      # final time\n",
    "    dt = 0.001                           # time increment\n",
    "    N = int(T/dt) + 1                  # number of time-steps\n",
    "    t = numpy.linspace(0, T, N)      # time discretization\n",
    "\n",
    "# initialize the array containing the solution for each time-step\n",
    "    u = numpy.empty((N, 4))\n",
    "    u[0] = numpy.array([x6[0], x6[1], x0, y0])# fill 1st element with initial values\n",
    "\n",
    "    n = 0\n",
    "# time loop - Euler method\n",
    "    while u[n, 3] >= 0:\n",
    "    \n",
    "        u[n+1] = euler_step(u[n], f, dt)\n",
    "        n+=1\n",
    "        \n",
    "        \n",
    "    x = u[u[:,3]>0,2]\n",
    "    \n",
    "    \n",
    "    \n",
    "    return -1*x[-1]\n"
   ]
  },
  {
   "cell_type": "code",
   "execution_count": 31,
   "metadata": {
    "collapsed": false
   },
   "outputs": [
    {
     "ename": "TypeError",
     "evalue": "funcall() takes 1 positional argument but 2 were given",
     "output_type": "error",
     "traceback": [
      "\u001b[1;31m---------------------------------------------------------------------------\u001b[0m",
      "\u001b[1;31mTypeError\u001b[0m                                 Traceback (most recent call last)",
      "\u001b[1;32m<ipython-input-31-f720843bf703>\u001b[0m in \u001b[0;36m<module>\u001b[1;34m()\u001b[0m\n\u001b[1;32m----> 1\u001b[1;33m \u001b[0mz\u001b[0m \u001b[1;33m=\u001b[0m \u001b[0mfuncall\u001b[0m\u001b[1;33m(\u001b[0m\u001b[1;36m20\u001b[0m\u001b[1;33m,\u001b[0m\u001b[0mnumpy\u001b[0m\u001b[1;33m.\u001b[0m\u001b[0mpi\u001b[0m\u001b[1;33m/\u001b[0m\u001b[1;36m4\u001b[0m\u001b[1;33m)\u001b[0m\u001b[1;33m\u001b[0m\u001b[0m\n\u001b[0m\u001b[0;32m      2\u001b[0m \u001b[0mprint\u001b[0m\u001b[1;33m(\u001b[0m\u001b[0mz\u001b[0m\u001b[1;33m)\u001b[0m\u001b[1;33m\u001b[0m\u001b[0m\n",
      "\u001b[1;31mTypeError\u001b[0m: funcall() takes 1 positional argument but 2 were given"
     ]
    }
   ],
   "source": [
    "z = funcall(20,numpy.pi/4)\n",
    "print(z)"
   ]
  },
  {
   "cell_type": "code",
   "execution_count": 36,
   "metadata": {
    "collapsed": false
   },
   "outputs": [
    {
     "name": "stdout",
     "output_type": "stream",
     "text": [
      "[ 1.7903166   0.00570147]\n",
      "-2.10409610821\n",
      "[ 5.90245822 -0.64068116]\n",
      "-10.501394222\n",
      "[ 5.96676451 -0.6427611 ]\n",
      "-10.548310236\n",
      "[ 6.         -0.52359878]\n",
      "-10.8989762331\n",
      "[ 7.  0.]\n",
      "-15.8621657899\n",
      "[ 7.84056978 -0.13811059]\n",
      "-17.0138975828\n",
      "[  9.94874961  11.8257216 ]\n",
      "-17.2625339522\n",
      "[ 19.          -0.52359878]\n",
      "-18.3483471464\n",
      "[ 19.99924634  -0.44390396]\n",
      "-18.7659290753\n",
      "[ 23.99082958  -0.3547893 ]\n",
      "-18.8059921129\n",
      "[ 22.9939751  -0.312822 ]\n",
      "-18.8277878314\n"
     ]
    }
   ],
   "source": [
    "#предположительно ускорение за счет срезов\n",
    "\n",
    "vm = numpy.linspace(1, 50,num=50)\n",
    "points = numpy.empty((650, 2))\n",
    "\n",
    "tetam=numpy.linspace(-numpy.pi,numpy.pi,num=13)\n",
    "\n",
    "for k in range(0,650):\n",
    "    points[k,0]= vm[k%50]\n",
    "    points[k,1]=tetam[k%13]    \n",
    "x6=points[0,:]\n",
    "OptimizeResult=optimize.minimize(funcall,x6)\n",
    "fmax=OptimizeResult.x\n",
    "aprom=funcall(fmax)\n",
    "for k in range(0,650):\n",
    "    x6=points[0,:]\n",
    "    points=points[1:,]\n",
    "    OptimizeResult=optimize.minimize(funcall,x6)\n",
    "    fmax1=OptimizeResult.x\n",
    "    aprom1=funcall(fmax1)\n",
    "   \n",
    "    if aprom1<aprom:\n",
    "        aprom=aprom1\n",
    "        fmax=fmax1\n",
    "        print(fmax)\n",
    "        print(funcall(fmax))"
   ]
  },
  {
   "cell_type": "code",
   "execution_count": null,
   "metadata": {
    "collapsed": false
   },
   "outputs": [],
   "source": [
    "#начальная версия\n",
    "Nit=100\n",
    "for k in range(-6,6):\n",
    "    for n in range(1,Nit):\n",
    "        x6 = [n*0.5,numpy.pi/6*k]\n",
    "        OptimizeResult=optimize.minimize(funcall,x6)\n",
    "        fmax = OptimizeResult.x\n",
    "        Fmax = funcall(fmax)\n",
    "        if Fmax < aprom:\n",
    "            aprom = Fmax\n",
    "            print(fmax)\n",
    "            print(aprom)"
   ]
  }
 ],
 "metadata": {
  "anaconda-cloud": {},
  "kernelspec": {
   "display_name": "Python [Root]",
   "language": "python",
   "name": "Python [Root]"
  },
  "language_info": {
   "codemirror_mode": {
    "name": "ipython",
    "version": 3
   },
   "file_extension": ".py",
   "mimetype": "text/x-python",
   "name": "python",
   "nbconvert_exporter": "python",
   "pygments_lexer": "ipython3",
   "version": "3.5.2"
  }
 },
 "nbformat": 4,
 "nbformat_minor": 0
}
