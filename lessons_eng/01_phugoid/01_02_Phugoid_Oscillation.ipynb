{
 "cells": [
  {
<<<<<<< HEAD
   "cells": [
    {
     "cell_type": "heading",
     "level": 6,
     "metadata": {},
     "source": [
      "Content under Creative Commons Attribution license CC-BY 4.0, code under MIT license (c)2014 L.A. Barba, G.F. Forsyth. Partly based on David Ketcheson's pendulum lesson, also under CC-BY."
     ]
    },
    {
     "cell_type": "heading",
     "level": 1,
     "metadata": {},
     "source": [
      "Phugoid Oscillation"
     ]
    },
    {
     "cell_type": "markdown",
     "metadata": {},
     "source": [
      "Welcome back! This is the second IPython Notebook of the series _\"The phugoid model of glider flight\"_, the first learning module of the course [**\"Practical Numerical Methods with Python.\"**](http://openedx.seas.gwu.edu/courses/GW/MAE6286/2014_fall/about)\n",
      "\n",
      "In the first notebook, _\"Phugoid Motion\"_, we described the physics of an aircraft's oscillatory trajectory, seen as an exchange of kinetic and potential energy. This analysis goes back to Frederick Lanchester, who published his book _\"Aerodonetics\"_ on aircraft stability in 1909. We concluded that first exposure to our problem of interest by plotting the flight paths predicted by Lanchester's analysis, known as _phugoids_.\n",
      "\n",
      "Here, we will look at the situation when an aircraft is initially moving on the straight-line phugoid (obtained with the parameters $C=2/3$, $\\cos\\theta=1$, and $z=z_t$ in the previous analysis), and experiences a small upset, a wind gust that slightly perturbs its path. It will then enter into a gentle oscillation around the previous straight-line path: a _phugoid oscillation_.\n",
      "\n",
      "If the aircraft experiences an upward acceleration of $-d^2z/dt^2$, and we assume that the perturbation is small, then $\\cos\\theta=1$ is a good approximation and Newton's second law in the vertical direction is:\n",
      "\n",
      "$$\\begin{equation}\n",
      "L - W = - \\frac{W}{g}\\frac{d^2 z}{dt^2}\n",
      "\\end{equation}$$\n",
      "\n",
      "In the previous notebook, we saw that the following relation holds for the ratio of lift to weight, in terms of the trim velocity $v_t$:\n",
      "\n",
      "$$\\begin{equation}\n",
      "\\frac{L}{W}=\\frac{v^2}{v_t^2}\n",
      "\\end{equation}$$\n",
      "\n",
      "This will be useful: we can divide Equation (1) by the weight and use Equation (2) to replace $L/W$. Another useful relation from the previous notebook expressed the conservation of energy (per unit mass) as $v^2 = 2 gz$. With this, Equation (1) is rearranged as:\n",
      "\n",
      "$$\\begin{equation}\n",
      "\\frac{d^2z}{dt^2} + \\frac{gz}{z_t} = g\n",
      "\\end{equation}$$"
     ]
    },
    {
     "cell_type": "markdown",
     "metadata": {},
     "source": [
      "Look at Equation (3) for a moment. Does it ring a bell? Do you recognize it?\n",
      "\n",
      "If you remember from your physics courses the equation for _simple harmonic motion_, you should see the similarity! \n",
      "\n",
      "Take the case of a simple spring. Hooke's law is $F=-kx$, where $F$ is a restoring force, $x$ the displacement from a position of equilibrium and $k$ the spring constant. This results in the following ordinary differential equation for the displacement:\n",
      "\n",
      "$$\\begin{equation}\n",
      " \\frac{d^2 x}{dt^2}= -\\frac{k}{m}x\n",
      "\\end{equation}$$\n",
      "\n",
      "which has the solution $x(t) = A \\cos(\\omega t- \\phi)$, representing simple harmonic motion with an angular frequency $\\omega=\\sqrt{k/m}=2\\pi f$ and phase angle $\\phi$.\n",
      "\n",
      "Now look back at Equation (3): it has the same form and it represents simple harmonic motion with angular frequency $\\omega=\\sqrt{g/z_t}$. \n",
      "\n",
      "Think about this for a moment ... we can immediately say what the period of the oscillation is: exactly $2 \\pi \\sqrt{z_t/g}$ \u2014 or, in terms of the trim velocity, $\\pi \\sqrt{2} v_t/g$.\n",
      "\n",
      "_This is a remarkable result!_ Think about it: we know nothing about the aircraft, or the flight altitude, yet we can obtain the period of the phugoid oscillation simply as a function of the trim velocity. For example, if trim velocity is 200 knots, we get a phugoid period of about 47 seconds\u2014over that time, you really would not notice anything if you were flying in that aircraft.\n",
      "\n",
      "Next, we want to be able to compute the trajectory of the aircraft for a given initial perturbance. We will do this by numerically integrating the equation of motion."
     ]
    },
    {
     "cell_type": "heading",
     "level": 2,
     "metadata": {},
     "source": [
      "Prepare to integrate"
     ]
    },
    {
     "cell_type": "markdown",
     "metadata": {},
     "source": [
      "We want to integrate the differential equation and plot the trajectory of the aircraft. Are you ready?\n",
      "\n",
      "The equation for the phugoid oscillation is a second-order, ordinary differential equation (ODE). Let's represent the time derivative with a prime, and write it like this:\n",
      "\n",
      "$$\\begin{equation}\n",
      "z(t)'' + \\frac{g \\,z(t)}{z_t}=g\n",
      "\\end{equation}$$\n",
      "\n",
      "There's a convenient trick when we work with ODEs: we can turn this 2nd-order equation into a system of two 1st-order equations. Like this:\n",
      "\n",
      "$$\\begin{eqnarray}\n",
      "z'(t) &=& v(t)\\\\\n",
      "v'(t) &=& g\\left(1-\\frac{z(t)}{z_t}\\right)\n",
      "\\end{eqnarray}$$\n",
      "\n",
      "Are you following? Make sure you are following the derivations, even if it means writing the equations down in your own notes! (Yes, the old-fashioned paper way.)\n",
      "\n",
      "Another way to look at a system of two 1st-order ODEs is by using vectors. You can make a vector with your two independent variables, \n",
      "\n",
      "$$\\begin{equation}\n",
      "\\vec{u}  = \\begin{pmatrix} z \\\\ v \\end{pmatrix}\n",
      "\\end{equation}$$\n",
      "\n",
      "and write the differential system as a single vector equation:\n",
      "\n",
      "\\begin{equation}\n",
      "\\vec{u}'(t)  = \\begin{pmatrix} v \\\\ g-g\\frac{z(t)}{z_t} \\end{pmatrix}\n",
      "\\end{equation}\n",
      "\n",
      "If you call the right-hand-side $\\vec{f}(\\vec{u})$, then the equation is very short: $\\vec{u}'(t) = \\vec{f}(\\vec{u})$\u2014but let's drop those arrows to denote vectors from now on, as they are a bit cumbersome: just remember that $u$ and $f$ are vectors in the phugoid equation of motion.\n",
      "\n",
      "Next, we'll prepare to solve this problem numerically."
     ]
    },
    {
     "cell_type": "heading",
     "level": 2,
     "metadata": {},
     "source": [
      "Initial value problems"
     ]
    },
    {
     "cell_type": "markdown",
     "metadata": {},
     "source": [
      "Let's step back for a moment. Suppose we have a first-order ODE $u'=f(u)$. You know that if we were to integrate this, there would be an arbitrary constant of integration. To find its value, we do need to know one point on the curve $(t, u)$. When the derivative in the ODE is with respect to time, we call that point the _initial value_ and write something like this:\n",
      "\n",
      "$$u(t=0)=u_0$$\n",
      "\n",
      "In the case of a second-order ODE, we already saw how to write it as a system of first-order ODEs, and we would need an initial value for each equation: two conditions are needed to determine our constants of integration. The same applies for higher-order ODEs: if it is of order $n$, we can write it as $n$ first-order equations, and we need $n$ known values. If we have that data, we call the problem an _initial value problem_.\n",
      "\n",
      "Remember the definition of a derivative? The derivative represents the slope of the tangent at a point of the curve $u=u(t)$, and the definition of the derivative $u'$ for a function is:\n",
      "\n",
      "$$u'(t) = \\lim_{\\Delta t\\rightarrow 0} \\frac{u(t+\\Delta t)-u(t)}{\\Delta t}$$\n",
      "\n",
      "If the step $\\Delta t$ is already very small, we can _approximate_ the derivative by dropping the limit. We can write:\n",
      "\n",
      "$$\\begin{equation}\n",
      "u(t+\\Delta t) \\approx u(t) + u'(t) \\Delta t\n",
      "\\end{equation}$$\n",
      "\n",
      "With this equation, and because we know $u'(t)=f(u)$, if we have an initial value, we can step by $\\Delta t$ and find the value of $u(t+\\Delta t)$, then we can take this value, and find $u(t+2\\Delta t)$, and so on: we say that we _step in time_, numerically finding the solution $u(t)$ for a range of values: $t_1, t_2, t_3 \\cdots$, each separated by $\\Delta t$. The numerical solution of the ODE is simply the table of values $t_i, u_i$ that results from this process."
     ]
    },
    {
     "cell_type": "heading",
     "level": 2,
     "metadata": {},
     "source": [
      "Discretization"
     ]
    },
    {
     "cell_type": "markdown",
     "metadata": {},
     "source": [
      "In order to execute the process described above and find the numerical solution of the ODE, we start by choosing the values $t_1,t_2,t_3 \\cdots t_n$\u2014we call these values our *grid* in time. The first point of the grid is given by our _initial value_, and the small difference between two consecutive times is called the _time step_, denoted by $\\Delta t$.  The solution value at time $t_n$ is denoted by $u_n$.\n",
      "\n",
      "Let's build a time grid for our problem. We first choose a final time $T$ and the time step $\\Delta t$. In code, we'll use readily identifiable variable names: `T` and `dt`, respectively. With those values set, we can calculate the number of time steps that will be needed to reach the final time; we call that variable `N`. \n",
      "\n",
      "Let's write some code. The first thing we do in Python is load our favorite libraries: NumPy for array operations, and the Pyplot module in Matplotlib, to later on be able to plot the numerical solution. The line `%matplotlib inline` tells IPython Notebook to show the plots inline."
     ]
    },
    {
     "cell_type": "code",
     "collapsed": false,
     "input": [
      "import numpy \n",
      "import matplotlib.pyplot as plt\n",
      "%matplotlib inline"
     ],
     "language": "python",
     "metadata": {},
     "outputs": [],
     "prompt_number": 1
    },
    {
     "cell_type": "markdown",
     "metadata": {},
     "source": [
      "Now, initialize `T` and `dt`, calculate `N` and build a NumPy array with all the values of time that make up the grid."
     ]
    },
    {
     "cell_type": "code",
     "collapsed": false,
     "input": [
      "T = 100.0\n",
      "dt = 0.01\n",
      "N = int(T/dt)+1\n",
      "t = numpy.linspace(0.0, T, N)"
     ],
     "language": "python",
     "metadata": {},
     "outputs": [],
     "prompt_number": 2
    },
    {
     "cell_type": "markdown",
     "metadata": {},
     "source": [
      "We have our grid! Now it's time to apply the numerical time stepping represented by Equation (10)."
     ]
    },
    {
     "cell_type": "heading",
     "level": 5,
     "metadata": {},
     "source": [
      "Challenge!"
     ]
    },
    {
     "cell_type": "markdown",
     "metadata": {},
     "source": [
      "* Write the code above using the NumPy function `arange()` instead of `linspace()`. If you need to, read the documentation for these functions."
     ]
    },
    {
     "cell_type": "heading",
     "level": 5,
     "metadata": {},
     "source": [
      "Pro tip:"
     ]
    },
    {
     "cell_type": "markdown",
     "metadata": {},
     "source": [
      "Enter a question mark followed by any function, e.g., `?numpy.linspace`, into a code cell and execute it, to get a help pane on the notebook."
     ]
    },
    {
     "cell_type": "heading",
     "level": 2,
     "metadata": {},
     "source": [
      "Euler's method"
     ]
    },
    {
     "cell_type": "markdown",
     "metadata": {},
     "source": [
      "The approximate solution at time $t_n$ is $u_n$, and the numerical solution of the differential equation consists of computing a sequence of approximate solutions by the following formula, based on Equation (10):\n",
      "\n",
      "$$u_{n+1} = u_n + \\Delta t \\,f(u_n).$$\n",
      "\n",
      "This formula is called **Euler's method**.\n",
      "\n",
      "For the equations of the phugoid oscillation, Euler's method gives the following algorithm that we need to implement in code:\n",
      "\n",
      "\\begin{align}\n",
      "z_{n+1} & = z_n + \\Delta t \\, v_n \\\\\n",
      "v_{n+1} & = v_n + \\Delta t \\left(g - \\frac{g}{z_t} \\, z_n \\right).\n",
      "\\end{align}"
     ]
    },
    {
     "cell_type": "heading",
     "level": 3,
     "metadata": {},
     "source": [
      "And solve!"
     ]
    },
    {
     "cell_type": "markdown",
     "metadata": {},
     "source": [
      "To apply the numerical solution method, we need to set things up in code: define the parameter values needed in the model, initialize a NumPy array to hold the discrete solution values, and initialize another array for the angular values."
     ]
    },
    {
     "cell_type": "code",
     "collapsed": false,
     "input": [
      "# initial conditions\n",
      "z0 = 100.  #altitude\n",
      "v  = 10   #upward velocity resulting from gust\n",
      "zt = 100.\n",
      "g  = 9.81\n",
      "\n",
      "u = numpy.array([z0, v])\n",
      "\n",
      "# initialize an array to hold the changing angle values\n",
      "z = numpy.zeros(N)\n",
      "z[0] = z0  "
     ],
     "language": "python",
     "metadata": {},
     "outputs": [],
     "prompt_number": 3
    },
    {
     "cell_type": "markdown",
     "metadata": {},
     "source": [
      "You should pay attention to a couple of things: (1) See how there is a dot after the numbers used to define our parameters? We just want to be explicit (as a good habit) that these variables are real numbers, called \"floats.\" (2) We both _created_ and _initialized_ with zeros everywhere the solution vector `z`. Look up the documentation for the handy NumPy function `zeros()`, if you need to. (3) In the last line above, we assign the _initial value_ to the first element of the solution vector: `z[0]`.\n",
      "\n",
      "Now we can step in time using Euler's method. Notice how we are time stepping the two independend variables at once in the time iterations."
     ]
    },
    {
     "cell_type": "code",
     "collapsed": false,
     "input": [
      "# time-loop using Euler's method\n",
      "for n in range(1,N):\n",
      "    u = u + dt*numpy.array([u[1], g*(1-u[0]/zt)])\n",
      "    z[n] = u[0]"
     ],
     "language": "python",
     "metadata": {},
     "outputs": [],
     "prompt_number": 4
    },
    {
     "cell_type": "markdown",
     "metadata": {},
     "source": [
      "Make sure you understand what this code is doing. This is a basic pattern in numerical methods: iterations in a time variable that apply a numerical scheme at each step."
     ]
    },
    {
     "cell_type": "heading",
     "level": 2,
     "metadata": {},
     "source": [
      "Plot the solution"
     ]
    },
    {
     "cell_type": "markdown",
     "metadata": {},
     "source": [
      "If the code is correct, we have stored in the array `z` the position of the glider at each time. Let's use Matplotlib to examine the flight path of the arcraft.\n",
      "\n",
      "You should explore the [Matplotlib tutorial](http://matplotlib.org/users/pyplot_tutorial.html) (if you need to) and familiarize yourself with the command-style functions that control the size, labels, line style, and so on. Creating good plots is a useful skill: it is about communicating your results effectively. \n",
      "\n",
      "Here, we set the figure size, the limits of the vertical axis, the format of tick-marks, and axis labels. The final line actually produces the plot, with our chosen line style (continuous black line)."
     ]
    },
    {
     "cell_type": "code",
     "collapsed": false,
     "input": [
      "plt.figure(figsize=(10,4))   #set plot size\n",
      "plt.ylim(40,160)             #y-axis plot limits\n",
      "plt.tick_params(axis='both', labelsize=14) #increase font size for ticks\n",
      "plt.xlabel('t', fontsize=14) #x label\n",
      "plt.ylabel('z', fontsize=14) #y label\n",
      "plt.plot(t,z, 'k-');"
     ],
     "language": "python",
     "metadata": {},
     "outputs": [
      {
       "metadata": {},
       "output_type": "display_data",
       "png": "iVBORw0KGgoAAAANSUhEUgAAAnMAAAEZCAYAAAD8N6OvAAAABHNCSVQICAgIfAhkiAAAAAlwSFlz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\nwxwRERGRwn4Dbttp8XPROikAAAAASUVORK5CYII=\n",
       "text": [
        "<matplotlib.figure.Figure at 0xb051bf8c>"
       ]
      }
     ],
     "prompt_number": 5
    },
    {
     "cell_type": "heading",
     "level": 5,
     "metadata": {},
     "source": [
      "Explore and think"
     ]
    },
    {
     "cell_type": "markdown",
     "metadata": {},
     "source": [
      "Try changing the value of `v` in the initial conditions.  \n",
      "\n",
      "* What happens when you have a larger gust?  \n",
      "* What about a smaller gust?  \n",
      "* What happens if there isn't a gust (`v = 0`)?"
     ]
    },
    {
     "cell_type": "heading",
     "level": 2,
     "metadata": {},
     "source": [
      "Exact solution"
     ]
    },
    {
     "cell_type": "markdown",
     "metadata": {},
     "source": [
      "The equation for phugoid oscillations is a 2nd-order, linear ODE and it has an exact solution of the following form:\n",
      "\n",
      "$$\n",
      "\\begin{equation}\n",
      "z(t) = A \\sin \\left(\\sqrt{\\frac{g}{z_t}} t \\right) + B \\cos \\left(\\sqrt{\\frac{g}{z_t}} t \\right) + z_t\n",
      "\\end{equation}\n",
      "$$\n",
      "\n",
      "where $A$ and $B$ are constants that we solve for using initial conditions.  "
     ]
    },
    {
     "cell_type": "markdown",
     "metadata": {},
     "source": [
      "Our numerical solution used the initial conditions:\n",
      "\n",
      "$$\\begin{eqnarray}\n",
      "z(0) = z_0 \\\\\n",
      "v(0) = v_0\n",
      "\\end{eqnarray}$$\n",
      "\n",
      "Applying these to the exact solution and solving for $A$ and $B$, we get:\n",
      "\n",
      "$$\\begin{equation}\n",
      "z(t) = v_0 \\sqrt{\\frac{z_t}{g}} \\sin \\left(\\sqrt{\\frac{g}{z_t}} t \\right) + (z_0-z_t) \\cos \\left(\\sqrt{\\frac{g}{z_t}} t \\right) + z_t\n",
      "\\end{equation}$$"
     ]
    },
    {
     "cell_type": "markdown",
     "metadata": {},
     "source": [
      "We already defined all of these variables for our numerical solution, so we can immediately compute the exact solution. "
     ]
    },
    {
     "cell_type": "heading",
     "level": 5,
     "metadata": {},
     "source": [
      "Pro tip:"
     ]
    },
    {
     "cell_type": "markdown",
     "metadata": {},
     "source": [
      "The expression is a  bit long \u2014if you don't feel like scrolling left and right, you can insert a line break in the code using a backslash '\\' _(without any trailing spaces)_ and Python will treat the next line as a continuation of the first."
     ]
    },
    {
     "cell_type": "code",
     "collapsed": false,
     "input": [
      "z_exact = v*(zt/g)**.5*numpy.sin((g/zt)**.5*t)+\\\n",
      "            (z0-zt)*numpy.cos((g/zt)**.5*t)+zt"
     ],
     "language": "python",
     "metadata": {},
     "outputs": [],
     "prompt_number": 6
    },
    {
     "cell_type": "heading",
     "level": 2,
     "metadata": {},
     "source": [
      "Plot the exact solution"
     ]
    },
    {
     "cell_type": "markdown",
     "metadata": {},
     "source": [
      "Now we can plot our exact solution!  Even better, we can plot _both_ the numerical solution *and* the exact solution to see how well Euler's method approximated the phugoid oscillations.\n",
      "\n",
      "To add another curve to a plot, simply type a second `plt.plot()` statement.  We also added a legend using the format\n",
      "\n",
      "```Python\n",
      "plt.legend([\"line 1\",\"line 2\"])\n",
      "```"
     ]
    },
    {
     "cell_type": "code",
     "collapsed": false,
     "input": [
      "plt.figure(figsize=(10,4))\n",
      "plt.ylim(40,160)             #y-axis plot limits\n",
      "plt.tick_params(axis='both', labelsize=14) #increase font size for ticks\n",
      "plt.xlabel('t', fontsize=14) #x label\n",
      "plt.ylabel('z', fontsize=14) #y label\n",
      "plt.plot(t,z)\n",
      "plt.plot(t, z_exact)\n",
      "plt.legend(['Numerical Solution','Analytical Solution']);"
     ],
     "language": "python",
     "metadata": {},
     "outputs": [
      {
       "metadata": {},
       "output_type": "display_data",
       "png": "iVBORw0KGgoAAAANSUhEUgAAAnMAAAEZCAYAAAD8N6OvAAAABHNCSVQICAgIfAhkiAAAAAlwSFlz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\nc0REREQ6jGGOiIiISIcxzBERERHpsP8HIqQIKrA3F38AAAAASUVORK5CYII=\n",
       "text": [
        "<matplotlib.figure.Figure at 0xb04ee8ec>"
       ]
      }
     ],
     "prompt_number": 7
    },
    {
     "cell_type": "markdown",
     "metadata": {},
     "source": [
      "That looks like pretty good agreement, but what's happening towards the end? We'll come back to this.\n",
      "\n",
      "Euler's method, like all numerical methods, introduces some errors.  If the method is *convergent*, the approximation will get closer and closer to the exact solution as we reduce the size of the step, $\\Delta t$. The error in the numerical method should tend to zero, in fact, when $\\Delta t\\rightarrow 0$\u2014when this happens, we call the method _consistent_. We'll define these terms more carefully in the theory components of this course. "
     ]
    },
    {
     "cell_type": "heading",
     "level": 2,
     "metadata": {},
     "source": [
      "Convergence"
     ]
    },
    {
     "cell_type": "markdown",
     "metadata": {},
     "source": [
      "To compare the two solutions, we need to use a **norm** of the difference, like the $L_1$ norm, for example.\n",
      "\n",
      "$$ E = \\Delta t \\sum_{n=0}^N \\left|z(t_n) - z_n\\right|$$\n",
      "\n",
      "The $L_1$ norm is the sum of the individual differences between the exact and the numerical solutions, at each mesh point.\n",
      "\n",
      "We check for convergence by calculating the numerical solution using progressively smaller values of `dt`. We already have most of the code that we need.  We just need to add an extra loop and an array of different $\\Delta t$ values to iterate through.  \n",
      "\n",
      "You should read the documentation for the function [enumerate](https://docs.python.org/2/library/functions.html#enumerate) and make sure you understand how we're using it below."
     ]
    },
    {
     "cell_type": "heading",
     "level": 5,
     "metadata": {},
     "source": [
      "Warning"
     ]
    },
    {
     "cell_type": "markdown",
     "metadata": {},
     "source": [
      "The cell below can take a little while to finish (the last $\\Delta t$ value alone requires 1 million iterations!).  If the cell is still running, the input label will say `In [*]`.  When it finishes, the `*` will be replaced by a number."
     ]
    },
    {
     "cell_type": "code",
     "collapsed": false,
     "input": [
      "# time-increment array\n",
      "dt_values = numpy.array([0.1, 0.05, 0.01, 0.005, 0.001, 0.0001])\n",
      "\n",
      "# array that will contain solution of each grid\n",
      "z_values = numpy.empty_like(dt_values, dtype=numpy.ndarray)\n",
      "\n",
      "for i, dt in enumerate(dt_values):\n",
      "    N = int(T/dt)+1    # number of time-steps\n",
      "    ### discretize the time using numpy.linspace() ###\n",
      "    t = numpy.linspace(0.0, T, N)\n",
      "\n",
      "    # initial conditions\n",
      "    u = numpy.array([z0, v])\n",
      "    z = numpy.empty_like(t)\n",
      "    z[0] = z0\n",
      "    \n",
      "    # time loop - Euler method\n",
      "    for n in range(1,N):\n",
      "        ### compute next solution using Euler method ###\n",
      "        u = u + dt*numpy.array([u[1], g*(1-u[0]/zt)])\n",
      "        z[n] = u[0]   # store the elevation at time-step n+1\n",
      "    \n",
      "    z_values[i] = z.copy()    # store the total elevation calculation grid i"
     ],
     "language": "python",
     "metadata": {},
     "outputs": [],
     "prompt_number": 8
    },
    {
     "cell_type": "heading",
     "level": 3,
     "metadata": {},
     "source": [
      "Calculate the error"
     ]
    },
    {
     "cell_type": "markdown",
     "metadata": {},
     "source": [
      "We now have numerical solutions for each $\\Delta t$ in the array `z_values`.  To calculate the error corresponding to each $\\Delta t$, we can write a function!  "
     ]
    },
    {
     "cell_type": "code",
     "collapsed": false,
     "input": [
      "def get_error(z, dt):\n",
      "    \"\"\"Returns the error relative to analytical solution using L-1 norm.\n",
      "    \n",
      "    Parameters\n",
      "    ----------\n",
      "    z : array of float\n",
      "        numerical solution.\n",
      "    dt : float\n",
      "        time increment.\n",
      "        \n",
      "    Returns\n",
      "    -------\n",
      "    err : float\n",
      "        L_{1} norm of the error with respect to the exact solution.\n",
      "    \"\"\"\n",
      "    N = len(z)\n",
      "    t = numpy.linspace(0.0, T, N)\n",
      "    \n",
      "    z_exact = v*(zt/g)**.5*numpy.sin((g/zt)**.5*t)+\\\n",
      "                (z0-zt)*numpy.cos((g/zt)**.5*t)+zt\n",
      "    \n",
      "    return dt * numpy.sum(numpy.abs(z-z_exact))"
     ],
     "language": "python",
     "metadata": {},
     "outputs": [],
     "prompt_number": 9
    },
    {
     "cell_type": "markdown",
     "metadata": {},
     "source": [
      "**Note**: in the last line of the function, we perform an 'array operation': \n",
      "\n",
      "`z - z_exact`\n",
      "\n",
      "We are *not* subtracting one value from another.  Instead, we are taking the difference between elements at each corresponding index in both arrays.  Here is a quick example:"
     ]
    },
    {
     "cell_type": "code",
     "collapsed": false,
     "input": [
      "a = numpy.array([1, 2, 3])\n",
      "b = numpy.array([4, 4, 4])\n",
      "\n",
      "b - a"
     ],
     "language": "python",
     "metadata": {},
     "outputs": [
      {
       "metadata": {},
       "output_type": "pyout",
       "prompt_number": 10,
       "text": [
        "array([3, 2, 1])"
       ]
      }
     ],
     "prompt_number": 10
    },
    {
     "cell_type": "markdown",
     "metadata": {},
     "source": [
      "Now, we iterate through each $\\Delta t$ value and calculate the corresponding error.  "
     ]
    },
    {
     "cell_type": "code",
     "collapsed": false,
     "input": [
      "error_values = numpy.empty_like(dt_values)\n",
      "\n",
      "for i, dt in enumerate(dt_values):\n",
      "    ### call the function get_error() ###\n",
      "    error_values[i] = get_error(z_values[i], dt)"
     ],
     "language": "python",
     "metadata": {},
     "outputs": [],
     "prompt_number": 11
    },
    {
     "cell_type": "markdown",
     "metadata": {},
     "source": [
      "Remember, *if* the method is convergent then the error should get smaller as  $\\Delta t$ gets smaller.  To visualize this, let's plot $\\Delta t$ vs. error.  If you use `plt.plot` you won't get a very useful result.  Instead, use `plt.loglog` to create the same plot with a log-log scale.  This is what we do almost always to assess the errors of a numerical scheme graphically."
     ]
    },
    {
     "cell_type": "code",
     "collapsed": false,
     "input": [
      "plt.figure(figsize=(10, 6))\n",
      "plt.tick_params(axis='both', labelsize=14) #increase tick font size\n",
      "plt.grid(True)                         #turn on grid lines\n",
      "plt.xlabel('$\\Delta t$', fontsize=16)  #x label\n",
      "plt.ylabel('Error', fontsize=16)       #y label\n",
      "plt.loglog(dt_values, error_values, 'ko-')  #log-log plot\n",
      "plt.axis('equal')                      #make axes scale equally;"
     ],
     "language": "python",
     "metadata": {},
     "outputs": [
      {
       "metadata": {},
       "output_type": "display_data",
       "png": "iVBORw0KGgoAAAANSUhEUgAAAmwAAAGRCAYAAADYce9/AAAABHNCSVQICAgIfAhkiAAAAAlwSFlz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\no2EDAACwORo2AAAAm6NhAwAAsLn/A9345Z8quiGuAAAAAElFTkSuQmCC\n",
       "text": [
        "<matplotlib.figure.Figure at 0xb051bc4c>"
       ]
      }
     ],
     "prompt_number": 12
    },
    {
     "cell_type": "markdown",
     "metadata": {},
     "source": [
      "This is the kind of result we like to see!  As $\\Delta t$ shrinks (towards the left), the error gets smaller and smaller, like it should."
     ]
    },
    {
     "cell_type": "heading",
     "level": 5,
     "metadata": {},
     "source": [
      "Challenge!"
     ]
    },
    {
     "cell_type": "markdown",
     "metadata": {},
     "source": [
      "We calculated the error for several different timestep sizes using two nested `for` loops.  That worked, but whenever possible, we like to re-use code (and not just copy and paste it!).  \n",
      "\n",
      "Create a function that implements Euler's method and re-write the error analysis cell to use your function."
     ]
    },
    {
     "cell_type": "markdown",
     "metadata": {},
     "source": [
      "---\n",
      "\n",
      "######The cell below loads the style of this notebook."
     ]
    },
    {
     "cell_type": "code",
     "collapsed": false,
     "input": [
      "from IPython.core.display import HTML\n",
      "css_file = '../../styles/numericalmoocstyle.css'\n",
      "HTML(open(css_file, \"r\").read())"
     ],
     "language": "python",
     "metadata": {},
     "outputs": [
      {
       "html": [
        "<link href='http://fonts.googleapis.com/css?family=Alegreya+Sans:100,300,400,500,700,800,900,100italic,300italic,400italic,500italic,700italic,800italic,900italic' rel='stylesheet' type='text/css'>\n",
        "<link href='http://fonts.googleapis.com/css?family=Arvo:400,700,400italic' rel='stylesheet' type='text/css'>\n",
        "<link href='http://fonts.googleapis.com/css?family=PT+Mono' rel='stylesheet' type='text/css'>\n",
        "<link href='http://fonts.googleapis.com/css?family=Shadows+Into+Light' rel='stylesheet' type='text/css'>\n",
        "<link href='http://fonts.googleapis.com/css?family=Nixie+One' rel='stylesheet' type='text/css'>\n",
        "<style>\n",
        "\n",
        "@font-face {\n",
        "    font-family: \"Computer Modern\";\n",
        "    src: url('http://mirrors.ctan.org/fonts/cm-unicode/fonts/otf/cmunss.otf');\n",
        "}\n",
        "\n",
        "#notebook_panel { /* main background */\n",
        "    background: rgb(245,245,245);\n",
        "}\n",
        "\n",
        "div.cell { /* set cell width */\n",
        "    width: 750px;\n",
        "}\n",
        "\n",
        "div #notebook { /* centre the content */\n",
        "    background: #fff; /* white background for content */\n",
        "    width: 1000px;\n",
        "    margin: auto;\n",
        "    padding-left: 0em;\n",
        "}\n",
        "\n",
        "#notebook li { /* More space between bullet points */\n",
        "margin-top:0.8em;\n",
        "}\n",
        "\n",
        "/* draw border around running cells */\n",
        "div.cell.border-box-sizing.code_cell.running { \n",
        "    border: 1px solid #111;\n",
        "}\n",
        "\n",
        "/* Put a solid color box around each cell and its output, visually linking them*/\n",
        "div.cell.code_cell {\n",
        "    background-color: rgb(256,256,256); \n",
        "    border-radius: 0px; \n",
        "    padding: 0.5em;\n",
        "    margin-left:1em;\n",
        "    margin-top: 1em;\n",
        "}\n",
        "\n",
        "div.text_cell_render{\n",
        "    font-family: 'Alegreya Sans' sans-serif;\n",
        "    line-height: 140%;\n",
        "    font-size: 125%;\n",
        "    font-weight: 400;\n",
        "    width:600px;\n",
        "    margin-left:auto;\n",
        "    margin-right:auto;\n",
        "}\n",
        "\n",
        "\n",
        "/* Formatting for header cells */\n",
        ".text_cell_render h1 {\n",
        "    font-family: 'Nixie One', serif;\n",
        "    font-style:regular;\n",
        "    font-weight: 400;    \n",
        "    font-size: 45pt;\n",
        "    line-height: 100%;\n",
        "    color: rgb(0,51,102);\n",
        "    margin-bottom: 0.5em;\n",
        "    margin-top: 0.5em;\n",
        "    display: block;\n",
        "}\t\n",
        ".text_cell_render h2 {\n",
        "    font-family: 'Nixie One', serif;\n",
        "    font-weight: 400;\n",
        "    font-size: 30pt;\n",
        "    line-height: 100%;\n",
        "    color: rgb(0,51,102);\n",
        "    margin-bottom: 0.1em;\n",
        "    margin-top: 0.3em;\n",
        "    display: block;\n",
        "}\t\n",
        "\n",
        ".text_cell_render h3 {\n",
        "    font-family: 'Nixie One', serif;\n",
        "    margin-top:16px;\n",
        "\tfont-size: 22pt;\n",
        "    font-weight: 600;\n",
        "    margin-bottom: 3px;\n",
        "    font-style: regular;\n",
        "    color: rgb(102,102,0);\n",
        "}\n",
        "\n",
        ".text_cell_render h4 {    /*Use this for captions*/\n",
        "    font-family: 'Nixie One', serif;\n",
        "    font-size: 14pt;\n",
        "    text-align: center;\n",
        "    margin-top: 0em;\n",
        "    margin-bottom: 2em;\n",
        "    font-style: regular;\n",
        "}\n",
        "\n",
        ".text_cell_render h5 {  /*Use this for small titles*/\n",
        "    font-family: 'Nixie One', sans-serif;\n",
        "    font-weight: 400;\n",
        "    font-size: 16pt;\n",
        "    color: rgb(163,0,0);\n",
        "    font-style: italic;\n",
        "    margin-bottom: .1em;\n",
        "    margin-top: 0.8em;\n",
        "    display: block;\n",
        "}\n",
        "\n",
        ".text_cell_render h6 { /*use this for copyright note*/\n",
        "    font-family: 'PT Mono', sans-serif;\n",
        "    font-weight: 300;\n",
        "    font-size: 9pt;\n",
        "    line-height: 100%;\n",
        "    color: grey;\n",
        "    margin-bottom: 1px;\n",
        "    margin-top: 1px;\n",
        "}\n",
        "\n",
        ".CodeMirror{\n",
        "        font-family: \"PT Mono\";\n",
        "        font-size: 90%;\n",
        "}\n",
        "\n",
        "</style>\n",
        "<script>\n",
        "    MathJax.Hub.Config({\n",
        "                        TeX: {\n",
        "                           extensions: [\"AMSmath.js\"],\n",
        "                           equationNumbers: { autoNumber: \"AMS\", useLabelIds: true}\n",
        "                           },\n",
        "                tex2jax: {\n",
        "                    inlineMath: [ ['$','$'], [\"\\\\(\",\"\\\\)\"] ],\n",
        "                    displayMath: [ ['$$','$$'], [\"\\\\[\",\"\\\\]\"] ]\n",
        "                },\n",
        "                displayAlign: 'center', // Change this to 'center' to center equations.\n",
        "                \"HTML-CSS\": {\n",
        "                    styles: {'.MathJax_Display': {\"margin\": 4}}\n",
        "                }\n",
        "        });\n",
        "</script>\n"
       ],
       "metadata": {},
       "output_type": "pyout",
       "prompt_number": 13,
       "text": [
        "<IPython.core.display.HTML at 0xb02f064c>"
       ]
      }
     ],
     "prompt_number": 13
=======
   "cell_type": "markdown",
   "metadata": {},
   "source": [
    "###### Content under Creative Commons Attribution license CC-BY 4.0, code under MIT license (c)2014 L.A. Barba, G.F. Forsyth. Partly based on David Ketcheson's pendulum lesson, also under CC-BY."
   ]
  },
  {
   "cell_type": "markdown",
   "metadata": {},
   "source": [
    "# Phugoid Oscillation"
   ]
  },
  {
   "cell_type": "markdown",
   "metadata": {},
   "source": [
    "Welcome back! This is the second IPython Notebook of the series _\"The phugoid model of glider flight\"_, the first learning module of the course [**\"Practical Numerical Methods with Python.\"**](http://openedx.seas.gwu.edu/courses/GW/MAE6286/2014_fall/about)\n",
    "\n",
    "In the first notebook, _\"Phugoid Motion\"_, we described the physics of an aircraft's oscillatory trajectory, seen as an exchange of kinetic and potential energy. This analysis goes back to Frederick Lanchester, who published his book _\"Aerodonetics\"_ on aircraft stability in 1909. We concluded that first exposure to our problem of interest by plotting the flight paths predicted by Lanchester's analysis, known as _phugoids_.\n",
    "\n",
    "Here, we will look at the situation when an aircraft is initially moving on the straight-line phugoid (obtained with the parameters $C=2/3$, $\\cos\\theta=1$, and $z=z_t$ in the previous analysis), and experiences a small upset, a wind gust that slightly perturbs its path. It will then enter into a gentle oscillation around the previous straight-line path: a _phugoid oscillation_.\n",
    "\n",
    "If the aircraft experiences an upward acceleration of $-d^2z/dt^2$, and we assume that the perturbation is small, then $\\cos\\theta=1$ is a good approximation and Newton's second law in the vertical direction is:\n",
    "\n",
    "$$\\begin{equation}\n",
    "L - W = - \\frac{W}{g}\\frac{d^2 z}{dt^2}\n",
    "\\end{equation}$$\n",
    "\n",
    "In the previous notebook, we saw that the following relation holds for the ratio of lift to weight, in terms of the trim velocity $v_t$:\n",
    "\n",
    "$$\\begin{equation}\n",
    "\\frac{L}{W}=\\frac{v^2}{v_t^2}\n",
    "\\end{equation}$$\n",
    "\n",
    "This will be useful: we can divide Equation (1) by the weight and use Equation (2) to replace $L/W$. Another useful relation from the previous notebook expressed the conservation of energy (per unit mass) as $v^2 = 2 gz$. With this, Equation (1) is rearranged as:\n",
    "\n",
    "$$\\begin{equation}\n",
    "\\frac{d^2z}{dt^2} + \\frac{gz}{z_t} = g\n",
    "\\end{equation}$$"
   ]
  },
  {
   "cell_type": "markdown",
   "metadata": {},
   "source": [
    "Look at Equation (3) for a moment. Does it ring a bell? Do you recognize it?\n",
    "\n",
    "If you remember from your physics courses the equation for _simple harmonic motion_, you should see the similarity! \n",
    "\n",
    "Take the case of a simple spring. Hooke's law is $F=-kx$, where $F$ is a restoring force, $x$ the displacement from a position of equilibrium and $k$ the spring constant. This results in the following ordinary differential equation for the displacement:\n",
    "\n",
    "$$\\begin{equation}\n",
    " \\frac{d^2 x}{dt^2}= -\\frac{k}{m}x\n",
    "\\end{equation}$$\n",
    "\n",
    "which has the solution $x(t) = A \\cos(\\omega t- \\phi)$, representing simple harmonic motion with an angular frequency $\\omega=\\sqrt{k/m}=2\\pi f$ and phase angle $\\phi$.\n",
    "\n",
    "Now look back at Equation (3): it has nearly the same form and it represents simple harmonic motion with angular frequency $\\omega=\\sqrt{g/z_t}$ around mean height $z_t$. \n",
    "\n",
    "Think about this for a moment ... we can immediately say what the period of the oscillation is: exactly $2 \\pi \\sqrt{z_t/g}$ — or, in terms of the trim velocity, $\\pi \\sqrt{2} v_t/g$.\n",
    "\n",
    "_This is a remarkable result!_ Think about it: we know nothing about the aircraft, or the flight altitude, yet we can obtain the period of the phugoid oscillation simply as a function of the trim velocity. For example, if trim velocity is 200 knots, we get a phugoid period of about 47 seconds—over that time, you really would not notice anything if you were flying in that aircraft.\n",
    "\n",
    "Next, we want to be able to compute the trajectory of the aircraft for a given initial perturbance. We will do this by numerically integrating the equation of motion."
   ]
  },
  {
   "cell_type": "markdown",
   "metadata": {},
   "source": [
    "## Prepare to integrate"
   ]
  },
  {
   "cell_type": "markdown",
   "metadata": {},
   "source": [
    "We want to integrate the differential equation and plot the trajectory of the aircraft. Are you ready?\n",
    "\n",
    "The equation for the phugoid oscillation is a second-order, ordinary differential equation (ODE). Let's represent the time derivative with a prime, and write it like this:\n",
    "\n",
    "$$\\begin{equation}\n",
    "z(t)'' + \\frac{g \\,z(t)}{z_t}=g\n",
    "\\end{equation}$$\n",
    "\n",
    "There's a convenient trick when we work with ODEs: we can turn this 2nd-order equation into a system of two 1st-order equations. Like this:\n",
    "\n",
    "$$\\begin{eqnarray}\n",
    "z'(t) &=& b(t)\\\\\n",
    "b'(t) &=& g\\left(1-\\frac{z(t)}{z_t}\\right)\n",
    "\\end{eqnarray}$$\n",
    "\n",
    "Are you following? Make sure you are following the derivations, even if it means writing the equations down in your own notes! (Yes, the old-fashioned paper way.)\n",
    "\n",
    "Another way to look at a system of two 1st-order ODEs is by using vectors. You can make a vector with your two independent variables, \n",
    "\n",
    "$$\\begin{equation}\n",
    "\\vec{u}  = \\begin{pmatrix} z \\\\ b \\end{pmatrix}\n",
    "\\end{equation}$$\n",
    "\n",
    "and write the differential system as a single vector equation:\n",
    "\n",
    "\\begin{equation}\n",
    "\\vec{u}'(t)  = \\begin{pmatrix} b\\\\ g-g\\frac{z(t)}{z_t} \\end{pmatrix}\n",
    "\\end{equation}\n",
    "\n",
    "If you call the right-hand-side $\\vec{f}(\\vec{u})$, then the equation is very short: $\\vec{u}'(t) = \\vec{f}(\\vec{u})$—but let's drop those arrows to denote vectors from now on, as they are a bit cumbersome: just remember that $u$ and $f$ are vectors in the phugoid equation of motion.\n",
    "\n",
    "Next, we'll prepare to solve this problem numerically."
   ]
  },
  {
   "cell_type": "markdown",
   "metadata": {},
   "source": [
    "## Initial value problems"
   ]
  },
  {
   "cell_type": "markdown",
   "metadata": {},
   "source": [
    "Let's step back for a moment. Suppose we have a first-order ODE $u'=f(u)$. You know that if we were to integrate this, there would be an arbitrary constant of integration. To find its value, we do need to know one point on the curve $(t, u)$. When the derivative in the ODE is with respect to time, we call that point the _initial value_ and write something like this:\n",
    "\n",
    "$$u(t=0)=u_0$$\n",
    "\n",
    "In the case of a second-order ODE, we already saw how to write it as a system of first-order ODEs, and we would need an initial value for each equation: two conditions are needed to determine our constants of integration. The same applies for higher-order ODEs: if it is of order $n$, we can write it as $n$ first-order equations, and we need $n$ known values. If we have that data, we call the problem an _initial value problem_.\n",
    "\n",
    "Remember the definition of a derivative? The derivative represents the slope of the tangent at a point of the curve $u=u(t)$, and the definition of the derivative $u'$ for a function is:\n",
    "\n",
    "$$u'(t) = \\lim_{\\Delta t\\rightarrow 0} \\frac{u(t+\\Delta t)-u(t)}{\\Delta t}$$\n",
    "\n",
    "If the step $\\Delta t$ is already very small, we can _approximate_ the derivative by dropping the limit. We can write:\n",
    "\n",
    "$$\\begin{equation}\n",
    "u(t+\\Delta t) \\approx u(t) + u'(t) \\Delta t\n",
    "\\end{equation}$$\n",
    "\n",
    "With this equation, and because we know $u'(t)=f(u)$, if we have an initial value, we can step by $\\Delta t$ and find the value of $u(t+\\Delta t)$, then we can take this value, and find $u(t+2\\Delta t)$, and so on: we say that we _step in time_, numerically finding the solution $u(t)$ for a range of values: $t_1, t_2, t_3 \\cdots$, each separated by $\\Delta t$. The numerical solution of the ODE is simply the table of values $t_i, u_i$ that results from this process."
   ]
  },
  {
   "cell_type": "markdown",
   "metadata": {},
   "source": [
    "## Discretization"
   ]
  },
  {
   "cell_type": "markdown",
   "metadata": {},
   "source": [
    "In order to execute the process described above and find the numerical solution of the ODE, we start by choosing the values $t_1,t_2,t_3 \\cdots t_n$—we call these values our *grid* in time. The first point of the grid is given by our _initial value_, and the small difference between two consecutive times is called the _time step_, denoted by $\\Delta t$.  The solution value at time $t_n$ is denoted by $u_n$.\n",
    "\n",
    "Let's build a time grid for our problem. We first choose a final time $T$ and the time step $\\Delta t$. In code, we'll use readily identifiable variable names: `T` and `dt`, respectively. With those values set, we can calculate the number of time steps that will be needed to reach the final time; we call that variable `N`. \n",
    "\n",
    "Let's write some code. The first thing we do in Python is load our favorite libraries: NumPy for array operations, and the Pyplot module in Matplotlib, to later on be able to plot the numerical solution. The line `%matplotlib inline` tells IPython Notebook to show the plots inline."
   ]
  },
  {
   "cell_type": "code",
   "execution_count": 1,
   "metadata": {
    "collapsed": false
   },
   "outputs": [],
   "source": [
    "import numpy \n",
    "from matplotlib import pyplot\n",
    "%matplotlib inline"
   ]
  },
  {
   "cell_type": "markdown",
   "metadata": {},
   "source": [
    "Now, initialize `T` and `dt`, calculate `N` and build a NumPy array with all the values of time that make up the grid."
   ]
  },
  {
   "cell_type": "code",
   "execution_count": 2,
   "metadata": {
    "collapsed": false
   },
   "outputs": [],
   "source": [
    "T = 100.0\n",
    "dt = 0.02\n",
    "N = int(T/dt)+1\n",
    "t = numpy.linspace(0.0, T, N)"
   ]
  },
  {
   "cell_type": "markdown",
   "metadata": {},
   "source": [
    "We have our grid! Now it's time to apply the numerical time stepping represented by Equation (10)."
   ]
  },
  {
   "cell_type": "markdown",
   "metadata": {},
   "source": [
    "##### Challenge!"
   ]
  },
  {
   "cell_type": "markdown",
   "metadata": {},
   "source": [
    "* Write the code above using the NumPy function `arange()` instead of `linspace()`. If you need to, read the documentation for these functions."
   ]
  },
  {
   "cell_type": "markdown",
   "metadata": {},
   "source": [
    "##### Pro tip:"
   ]
  },
  {
   "cell_type": "markdown",
   "metadata": {},
   "source": [
    "Enter a question mark followed by any function, e.g., `?numpy.linspace`, into a code cell and execute it, to get a help pane on the notebook."
   ]
  },
  {
   "cell_type": "markdown",
   "metadata": {},
   "source": [
    "## Euler's method"
   ]
  },
  {
   "cell_type": "markdown",
   "metadata": {},
   "source": [
    "The approximate solution at time $t_n$ is $u_n$, and the numerical solution of the differential equation consists of computing a sequence of approximate solutions by the following formula, based on Equation (10):\n",
    "\n",
    "$$u_{n+1} = u_n + \\Delta t \\,f(u_n).$$\n",
    "\n",
    "This formula is called **Euler's method**.\n",
    "\n",
    "For the equations of the phugoid oscillation, Euler's method gives the following algorithm that we need to implement in code:\n",
    "\n",
    "\\begin{align}\n",
    "z_{n+1} & = z_n + \\Delta t \\, b_n \\\\\n",
    "b_{n+1} & = b_n + \\Delta t \\left(g - \\frac{g}{z_t} \\, z_n \\right).\n",
    "\\end{align}"
   ]
  },
  {
   "cell_type": "markdown",
   "metadata": {},
   "source": [
    "### And solve!"
   ]
  },
  {
   "cell_type": "markdown",
   "metadata": {},
   "source": [
    "To apply the numerical solution method, we need to set things up in code: define the parameter values needed in the model, initialize a NumPy array to hold the discrete solution values, and initialize another array for the elevation values."
   ]
  },
  {
   "cell_type": "code",
   "execution_count": 3,
   "metadata": {
    "collapsed": false
   },
   "outputs": [],
   "source": [
    "# initial conditions\n",
    "z0 = 100.  #altitude\n",
    "b0  = 10.  #upward velocity resulting from gust\n",
    "zt = 100.\n",
    "g  = 9.81\n",
    "\n",
    "u = numpy.array([z0, b0])\n",
    "\n",
    "# initialize an array to hold the changing elevation values\n",
    "z = numpy.zeros(N)\n",
    "z[0] = z0  "
   ]
  },
  {
   "cell_type": "markdown",
   "metadata": {},
   "source": [
    "You should pay attention to a couple of things: (1) See how there is a dot after the numbers used to define our parameters? We just want to be explicit (as a good habit) that these variables are real numbers, called \"floats.\" (2) We both _created_ and _initialized_ with zeros everywhere the solution vector `z`. Look up the documentation for the handy NumPy function `zeros()`, if you need to. (3) In the last line above, we assign the _initial value_ to the first element of the solution vector: `z[0]`.\n",
    "\n",
    "Now we can step in time using Euler's method. Notice how we are time stepping the two independent variables at once in the time iterations."
   ]
  },
  {
   "cell_type": "code",
   "execution_count": 4,
   "metadata": {
    "collapsed": false
   },
   "outputs": [],
   "source": [
    "# time-loop using Euler's method\n",
    "for n in range(1,N):\n",
    "    u = u + dt*numpy.array([u[1], g*(1-u[0]/zt)])\n",
    "    z[n] = u[0]"
   ]
  },
  {
   "cell_type": "markdown",
   "metadata": {},
   "source": [
    "Make sure you understand what this code is doing. This is a basic pattern in numerical methods: iterations in a time variable that apply a numerical scheme at each step."
   ]
  },
  {
   "cell_type": "markdown",
   "metadata": {},
   "source": [
    "## Plot the solution"
   ]
  },
  {
   "cell_type": "markdown",
   "metadata": {},
   "source": [
    "If the code is correct, we have stored in the array `z` the position of the glider at each time. Let's use Matplotlib to examine the flight path of the aircraft.\n",
    "\n",
    "You should explore the [Matplotlib tutorial](http://matplotlib.org/users/pyplot_tutorial.html) (if you need to) and familiarize yourself with the command-style functions that control the size, labels, line style, and so on. Creating good plots is a useful skill: it is about communicating your results effectively. \n",
    "\n",
    "Here, we set the figure size, the limits of the vertical axis, the format of tick-marks, and axis labels. The final line actually produces the plot, with our chosen line style (continuous black line)."
   ]
  },
  {
   "cell_type": "code",
   "execution_count": 5,
   "metadata": {
    "collapsed": false
   },
   "outputs": [
    {
     "data": {
      "image/png": "iVBORw0KGgoAAAANSUhEUgAAAncAAAEZCAYAAAD13APVAAAABHNCSVQICAgIfAhkiAAAAAlwSFlz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\n",
      "text/plain": [
       "<matplotlib.figure.Figure at 0x7f737a5bf7b8>"
      ]
     },
     "metadata": {},
     "output_type": "display_data"
    }
   ],
   "source": [
    "pyplot.figure(figsize=(10,4))   #set plot size\n",
    "pyplot.ylim(40,160)             #y-axis plot limits\n",
    "pyplot.tick_params(axis='both', labelsize=14) #increase font size for ticks\n",
    "pyplot.xlabel('t', fontsize=14) #x label\n",
    "pyplot.ylabel('z', fontsize=14) #y label\n",
    "pyplot.plot(t,z, 'k-');"
   ]
  },
  {
   "cell_type": "markdown",
   "metadata": {},
   "source": [
    "##### Explore and think"
   ]
  },
  {
   "cell_type": "markdown",
   "metadata": {},
   "source": [
    "Try changing the value of `v` in the initial conditions.  \n",
    "\n",
    "* What happens when you have a larger gust?  \n",
    "* What about a smaller gust?  \n",
    "* What happens if there isn't a gust (`v = 0`)?"
   ]
  },
  {
   "cell_type": "markdown",
   "metadata": {},
   "source": [
    "## Exact solution"
   ]
  },
  {
   "cell_type": "markdown",
   "metadata": {},
   "source": [
    "The equation for phugoid oscillations is a 2nd-order, linear ODE and it has an exact solution of the following form:\n",
    "\n",
    "$$\n",
    "\\begin{equation}\n",
    "z(t) = A \\sin \\left(\\sqrt{\\frac{g}{z_t}} t \\right) + B \\cos \\left(\\sqrt{\\frac{g}{z_t}} t \\right) + z_t\n",
    "\\end{equation}\n",
    "$$\n",
    "\n",
    "where $A$ and $B$ are constants that we solve for using initial conditions.  "
   ]
  },
  {
   "cell_type": "markdown",
   "metadata": {},
   "source": [
    "Our numerical solution used the initial conditions:\n",
    "\n",
    "$$\\begin{eqnarray}\n",
    "z(0) = z_0 \\\\\n",
    "b(0) = b_0\n",
    "\\end{eqnarray}$$\n",
    "\n",
    "Applying these to the exact solution and solving for $A$ and $B$, we get:\n",
    "\n",
    "$$\\begin{equation}\n",
    "z(t) = b_0 \\sqrt{\\frac{z_t}{g}} \\sin \\left(\\sqrt{\\frac{g}{z_t}} t \\right) + (z_0-z_t) \\cos \\left(\\sqrt{\\frac{g}{z_t}} t \\right) + z_t\n",
    "\\end{equation}$$"
   ]
  },
  {
   "cell_type": "markdown",
   "metadata": {},
   "source": [
    "We already defined all of these variables for our numerical solution, so we can immediately compute the exact solution. "
   ]
  },
  {
   "cell_type": "markdown",
   "metadata": {},
   "source": [
    "##### Pro tip:"
   ]
  },
  {
   "cell_type": "markdown",
   "metadata": {},
   "source": [
    "The expression is a  bit long —if you don't feel like scrolling left and right, you can insert a line break in the code using a backslash '\\' _(without any trailing spaces)_ and Python will treat the next line as a continuation of the first."
   ]
  },
  {
   "cell_type": "code",
   "execution_count": 6,
   "metadata": {
    "collapsed": false
   },
   "outputs": [],
   "source": [
    "z_exact = b0*(zt/g)**.5*numpy.sin((g/zt)**.5*t)+\\\n",
    "            (z0-zt)*numpy.cos((g/zt)**.5*t)+zt"
   ]
  },
  {
   "cell_type": "markdown",
   "metadata": {},
   "source": [
    "## Plot the exact solution"
   ]
  },
  {
   "cell_type": "markdown",
   "metadata": {},
   "source": [
    "Now we can plot our exact solution!  Even better, we can plot _both_ the numerical solution *and* the exact solution to see how well Euler's method approximated the phugoid oscillations.\n",
    "\n",
    "To add another curve to a plot, simply type a second `pyplot.plot()` statement.  We also added a legend using the format\n",
    "\n",
    "```Python\n",
    "pyplot.legend([\"line 1\",\"line 2\"])\n",
    "```"
   ]
  },
  {
   "cell_type": "code",
   "execution_count": 7,
   "metadata": {
    "collapsed": false
   },
   "outputs": [
    {
     "data": {
      "image/png": "iVBORw0KGgoAAAANSUhEUgAAAncAAAEZCAYAAAD13APVAAAABHNCSVQICAgIfAhkiAAAAAlwSFlz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\nXZ3JngAAAABJRU5ErkJggg==\n",
      "text/plain": [
       "<matplotlib.figure.Figure at 0x7f737a576710>"
      ]
     },
     "metadata": {},
     "output_type": "display_data"
    }
   ],
   "source": [
    "pyplot.figure(figsize=(10,4))\n",
    "pyplot.ylim(40,160)             #y-axis plot limits\n",
    "pyplot.tick_params(axis='both', labelsize=14) #increase font size for ticks\n",
    "pyplot.xlabel('t', fontsize=14) #x label\n",
    "pyplot.ylabel('z', fontsize=14) #y label\n",
    "pyplot.plot(t,z)\n",
    "pyplot.plot(t, z_exact)\n",
    "pyplot.legend(['Numerical Solution','Analytical Solution']);"
   ]
  },
  {
   "cell_type": "markdown",
   "metadata": {},
   "source": [
    "That looks like pretty good agreement, but what's happening towards the end? We'll come back to this. For now, re-run the previous steps with a different timestep, say $dt=0.01$ and pay attention to the difference.\n",
    "\n",
    "Euler's method, like all numerical methods, introduces some errors.  If the method is *convergent*, the approximation will get closer and closer to the exact solution as we reduce the size of the step, $\\Delta t$. The error in the numerical method should tend to zero, in fact, when $\\Delta t\\rightarrow 0$—when this happens, we call the method _consistent_. We'll define these terms more carefully in the theory components of this course. "
   ]
  },
  {
   "cell_type": "markdown",
   "metadata": {},
   "source": [
    "## Convergence"
   ]
  },
  {
   "cell_type": "markdown",
   "metadata": {},
   "source": [
    "To compare the two solutions, we need to use a **norm** of the difference, like the $L_1$ norm, for example.\n",
    "\n",
    "$$ E = \\Delta t \\sum_{n=0}^N \\left|z(t_n) - z_n\\right|$$\n",
    "\n",
    "The $L_1$ norm is the sum of the individual differences between the exact and the numerical solutions, at each mesh point. In other words, $E$ is the discrete representation of the integral over the interval $T$ of the (absolute) difference between the computed $z$ and $z_{\\rm exact}$:\n",
    "\n",
    "$$ E = \\int \\vert z-z_\\rm{exact}\\vert dt $$\n",
    "\n",
    "We check for convergence by calculating the numerical solution using progressively smaller values of `dt`. We already have most of the code that we need.  We just need to add an extra loop and an array of different $\\Delta t$ values to iterate through.  \n",
    "\n",
    "You should read the documentation for the function [enumerate](https://docs.python.org/2/library/functions.html#enumerate) and make sure you understand how we're using it below."
   ]
  },
  {
   "cell_type": "markdown",
   "metadata": {},
   "source": [
    "##### Warning"
   ]
  },
  {
   "cell_type": "markdown",
   "metadata": {},
   "source": [
    "The cell below can take a little while to finish (the last $\\Delta t$ value alone requires 1 million iterations!).  If the cell is still running, the input label will say `In [*]`.  When it finishes, the `*` will be replaced by a number."
   ]
  },
  {
   "cell_type": "code",
   "execution_count": 8,
   "metadata": {
    "collapsed": false
   },
   "outputs": [],
   "source": [
    "# time-increment array\n",
    "dt_values = numpy.array([0.1, 0.05, 0.01, 0.005, 0.001, 0.0001])\n",
    "\n",
    "# array that will contain solution of each grid\n",
    "z_values = numpy.empty_like(dt_values, dtype=numpy.ndarray)\n",
    "\n",
    "for i, dt in enumerate(dt_values):\n",
    "    N = int(T/dt)+1    # number of time-steps\n",
    "    ### discretize the time using numpy.linspace() ###\n",
    "    t = numpy.linspace(0.0, T, N)\n",
    "\n",
    "    # initial conditions\n",
    "    u = numpy.array([z0, b0])\n",
    "    z = numpy.empty_like(t)\n",
    "    z[0] = z0\n",
    "    \n",
    "    # time loop - Euler method\n",
    "    for n in range(1,N):\n",
    "        ### compute next solution using Euler method ###\n",
    "        u = u + dt*numpy.array([u[1], g*(1-u[0]/zt)])\n",
    "        z[n] = u[0]   # store the elevation at time-step n+1\n",
    "    \n",
    "    z_values[i] = z.copy()    # store the total elevation calculation grid i"
   ]
  },
  {
   "cell_type": "markdown",
   "metadata": {},
   "source": [
    "### Calculate the error"
   ]
  },
  {
   "cell_type": "markdown",
   "metadata": {},
   "source": [
    "We now have numerical solutions for each $\\Delta t$ in the array `z_values`.  To calculate the error corresponding to each $\\Delta t$, we can write a function!  "
   ]
  },
  {
   "cell_type": "code",
   "execution_count": 9,
   "metadata": {
    "collapsed": false
   },
   "outputs": [],
   "source": [
    "def get_error(z, dt):\n",
    "    \"\"\"Returns the error relative to analytical solution using L-1 norm.\n",
    "    \n",
    "    Parameters\n",
    "    ----------\n",
    "    z : array of float\n",
    "        numerical solution.\n",
    "    dt : float\n",
    "        time increment.\n",
    "        \n",
    "    Returns\n",
    "    -------\n",
    "    err : float\n",
    "        L_{1} norm of the error with respect to the exact solution.\n",
    "    \"\"\"\n",
    "    N = len(z)\n",
    "    t = numpy.linspace(0.0, T, N)\n",
    "    \n",
    "    z_exact = b0*(zt/g)**.5*numpy.sin((g/zt)**.5*t)+\\\n",
    "                (z0-zt)*numpy.cos((g/zt)**.5*t)+zt\n",
    "    \n",
    "    return dt * numpy.sum(numpy.abs(z-z_exact))"
   ]
  },
  {
   "cell_type": "markdown",
   "metadata": {},
   "source": [
    "**Note**: in the last line of the function, we perform an 'array operation': \n",
    "\n",
    "`z - z_exact`\n",
    "\n",
    "We are *not* subtracting one value from another.  Instead, we are taking the difference between elements at each corresponding index in both arrays.  Here is a quick example:"
   ]
  },
  {
   "cell_type": "code",
   "execution_count": 10,
   "metadata": {
    "collapsed": false
   },
   "outputs": [
    {
     "data": {
      "text/plain": [
       "array([3, 2, 1])"
      ]
     },
     "execution_count": 10,
     "metadata": {},
     "output_type": "execute_result"
    }
   ],
   "source": [
    "a = numpy.array([1, 2, 3])\n",
    "b = numpy.array([4, 4, 4])\n",
    "\n",
    "b - a"
   ]
  },
  {
   "cell_type": "markdown",
   "metadata": {},
   "source": [
    "Now, we iterate through each $\\Delta t$ value and calculate the corresponding error.  "
   ]
  },
  {
   "cell_type": "code",
   "execution_count": 11,
   "metadata": {
    "collapsed": false
   },
   "outputs": [],
   "source": [
    "error_values = numpy.empty_like(dt_values)\n",
    "\n",
    "for i, dt in enumerate(dt_values):\n",
    "    ### call the function get_error() ###\n",
    "    error_values[i] = get_error(z_values[i], dt)"
   ]
  },
  {
   "cell_type": "markdown",
   "metadata": {},
   "source": [
    "Remember, *if* the method is convergent then the error should get smaller as  $\\Delta t$ gets smaller.  To visualize this, let's plot $\\Delta t$ vs. error.  If you use `pyplot.plot` you won't get a very useful result.  Instead, use `pyplot.loglog` to create the same plot with a log-log scale.  This is what we do almost always to assess the errors of a numerical scheme graphically."
   ]
  },
  {
   "cell_type": "code",
   "execution_count": 12,
   "metadata": {
    "collapsed": false
   },
   "outputs": [
    {
     "data": {
      "image/png": "iVBORw0KGgoAAAANSUhEUgAAAnEAAAGTCAYAAABH6UQsAAAABHNCSVQICAgIfAhkiAAAAAlwSFlz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\noDeVAAAAAElFTkSuQmCC\n",
      "text/plain": [
       "<matplotlib.figure.Figure at 0x7f737a576c18>"
      ]
     },
     "metadata": {},
     "output_type": "display_data"
    }
   ],
   "source": [
    "pyplot.figure(figsize=(10, 6))\n",
    "pyplot.tick_params(axis='both', labelsize=14) #increase tick font size\n",
    "pyplot.grid(True)                         #turn on grid lines\n",
    "pyplot.xlabel('$\\Delta t$', fontsize=16)  #x label\n",
    "pyplot.ylabel('Error', fontsize=16)       #y label\n",
    "pyplot.loglog(dt_values, error_values, 'ko-')  #log-log plot\n",
    "pyplot.axis('equal')                      #make axes scale equally;"
   ]
  },
  {
   "cell_type": "markdown",
   "metadata": {},
   "source": [
    "This is the kind of result we like to see!  As $\\Delta t$ shrinks (towards the left), the error gets smaller and smaller, like it should."
   ]
  },
  {
   "cell_type": "markdown",
   "metadata": {},
   "source": [
    "##### Challenge!"
   ]
  },
  {
   "cell_type": "markdown",
   "metadata": {},
   "source": [
    "We calculated the error for several different timestep sizes using two nested `for` loops.  That worked, but whenever possible, we like to re-use code (and not just copy and paste it!).  \n",
    "\n",
    "Create a function that implements Euler's method and re-write the error analysis cell to use your function."
   ]
  },
  {
   "cell_type": "markdown",
   "metadata": {},
   "source": [
    "---\n",
    "\n",
    "###### The cell below loads the style of this notebook."
   ]
  },
  {
   "cell_type": "code",
   "execution_count": 13,
   "metadata": {
    "collapsed": false
   },
   "outputs": [
    {
     "data": {
      "text/html": [
       "<link href='http://fonts.googleapis.com/css?family=Alegreya+Sans:100,300,400,500,700,800,900,100italic,300italic,400italic,500italic,700italic,800italic,900italic' rel='stylesheet' type='text/css'>\n",
       "<link href='http://fonts.googleapis.com/css?family=Arvo:400,700,400italic' rel='stylesheet' type='text/css'>\n",
       "<link href='http://fonts.googleapis.com/css?family=PT+Mono' rel='stylesheet' type='text/css'>\n",
       "<link href='http://fonts.googleapis.com/css?family=Shadows+Into+Light' rel='stylesheet' type='text/css'>\n",
       "<link href='http://fonts.googleapis.com/css?family=Nixie+One' rel='stylesheet' type='text/css'>\n",
       "<style>\n",
       "\n",
       "@font-face {\n",
       "    font-family: \"Computer Modern\";\n",
       "    src: url('http://mirrors.ctan.org/fonts/cm-unicode/fonts/otf/cmunss.otf');\n",
       "}\n",
       "\n",
       "#notebook_panel { /* main background */\n",
       "    background: rgb(245,245,245);\n",
       "}\n",
       "\n",
       "div.cell { /* set cell width */\n",
       "    width: 750px;\n",
       "}\n",
       "\n",
       "div #notebook { /* centre the content */\n",
       "    background: #fff; /* white background for content */\n",
       "    width: 1000px;\n",
       "    margin: auto;\n",
       "    padding-left: 0em;\n",
       "}\n",
       "\n",
       "#notebook li { /* More space between bullet points */\n",
       "    margin-top:0.8em;\n",
       "}\n",
       "\n",
       "/* draw border around running cells */\n",
       "div.cell.border-box-sizing.code_cell.running { \n",
       "    border: 1px solid #111;\n",
       "}\n",
       "\n",
       "/* Put a solid color box around each cell and its output, visually linking them*/\n",
       "div.cell.code_cell {\n",
       "    background-color: rgb(256,256,256); \n",
       "    border-radius: 0px; \n",
       "    padding: 0.5em;\n",
       "    margin-left:1em;\n",
       "    margin-top: 1em;\n",
       "}\n",
       "\n",
       "div.text_cell_render{\n",
       "    font-family: 'Alegreya Sans' sans-serif;\n",
       "    line-height: 140%;\n",
       "    font-size: 125%;\n",
       "    font-weight: 400;\n",
       "    width:600px;\n",
       "    margin-left:auto;\n",
       "    margin-right:auto;\n",
       "}\n",
       "\n",
       "\n",
       "/* Formatting for header cells */\n",
       ".text_cell_render h1 {\n",
       "    font-family: 'Nixie One', serif;\n",
       "    font-style:regular;\n",
       "    font-weight: 400;    \n",
       "    font-size: 45pt;\n",
       "    line-height: 100%;\n",
       "    color: rgb(0,51,102);\n",
       "    margin-bottom: 0.5em;\n",
       "    margin-top: 0.5em;\n",
       "    display: block;\n",
       "}\n",
       "\n",
       ".text_cell_render h2 {\n",
       "    font-family: 'Nixie One', serif;\n",
       "    font-weight: 400;\n",
       "    font-size: 30pt;\n",
       "    line-height: 100%;\n",
       "    color: rgb(0,51,102);\n",
       "    margin-bottom: 0.1em;\n",
       "    margin-top: 0.3em;\n",
       "    display: block;\n",
       "}\t\n",
       "\n",
       ".text_cell_render h3 {\n",
       "    font-family: 'Nixie One', serif;\n",
       "    margin-top:16px;\n",
       "    font-size: 22pt;\n",
       "    font-weight: 600;\n",
       "    margin-bottom: 3px;\n",
       "    font-style: regular;\n",
       "    color: rgb(102,102,0);\n",
       "}\n",
       "\n",
       ".text_cell_render h4 {    /*Use this for captions*/\n",
       "    font-family: 'Nixie One', serif;\n",
       "    font-size: 14pt;\n",
       "    text-align: center;\n",
       "    margin-top: 0em;\n",
       "    margin-bottom: 2em;\n",
       "    font-style: regular;\n",
       "}\n",
       "\n",
       ".text_cell_render h5 {  /*Use this for small titles*/\n",
       "    font-family: 'Nixie One', sans-serif;\n",
       "    font-weight: 400;\n",
       "    font-size: 16pt;\n",
       "    color: rgb(163,0,0);\n",
       "    font-style: italic;\n",
       "    margin-bottom: .1em;\n",
       "    margin-top: 0.8em;\n",
       "    display: block;\n",
       "}\n",
       "\n",
       ".text_cell_render h6 { /*use this for copyright note*/\n",
       "    font-family: 'PT Mono', sans-serif;\n",
       "    font-weight: 300;\n",
       "    font-size: 9pt;\n",
       "    line-height: 100%;\n",
       "    color: grey;\n",
       "    margin-bottom: 1px;\n",
       "    margin-top: 1px;\n",
       "}\n",
       "\n",
       ".CodeMirror{\n",
       "    font-family: \"PT Mono\";\n",
       "    font-size: 90%;\n",
       "}\n",
       "\n",
       "</style>\n",
       "<script>\n",
       "    MathJax.Hub.Config({\n",
       "                        TeX: {\n",
       "                           extensions: [\"AMSmath.js\"],\n",
       "                           equationNumbers: { autoNumber: \"AMS\", useLabelIds: true}\n",
       "                           },\n",
       "                tex2jax: {\n",
       "                    inlineMath: [ ['$','$'], [\"\\\\(\",\"\\\\)\"] ],\n",
       "                    displayMath: [ ['$$','$$'], [\"\\\\[\",\"\\\\]\"] ]\n",
       "                },\n",
       "                displayAlign: 'center', // Change this to 'center' to center equations.\n",
       "                \"HTML-CSS\": {\n",
       "                    styles: {'.MathJax_Display': {\"margin\": 4}}\n",
       "                }\n",
       "        });\n",
       "</script>\n"
      ],
      "text/plain": [
       "<IPython.core.display.HTML object>"
      ]
     },
     "execution_count": 14,
     "metadata": {},
     "output_type": "execute_result"
>>>>>>> numerical-mooc/master
    }
   ],
   "source": [
    "from IPython.core.display import HTML\n",
    "css_file = '../../styles/numericalmoocstyle.css'\n",
    "HTML(open(css_file, \"r\").read())"
   ]
  }
 ],
 "metadata": {
  "kernelspec": {
   "display_name": "Python 3",
   "language": "python",
   "name": "python3"
  },
  "language_info": {
   "codemirror_mode": {
    "name": "ipython",
    "version": 3
   },
   "file_extension": ".py",
   "mimetype": "text/x-python",
   "name": "python",
   "nbconvert_exporter": "python",
   "pygments_lexer": "ipython3",
   "version": "3.5.2"
  }
 },
 "nbformat": 4,
 "nbformat_minor": 0
}
