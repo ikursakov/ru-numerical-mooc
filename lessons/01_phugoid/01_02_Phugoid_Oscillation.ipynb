{
 "cells": [
  {
   "cell_type": "markdown",
   "metadata": {},
   "source": [
    "###### Content under Creative Commons Attribution license CC-BY 4.0, code under MIT license (c)2014 L.A. Barba, G.F. Forsyth. Partly based on David Ketcheson's pendulum lesson, also under CC-BY."
   ]
  },
  {
   "cell_type": "markdown",
   "metadata": {},
   "source": [
    "# Фугоидные колебания"
   ]
  },
  {
   "cell_type": "markdown",
   "metadata": {},
   "source": [
    "С возвращением! Это второй блокнот модуля _“Фугоидная модель полета планера”_, первого учебного модуля русской версии курса  [**\"Practical Numerical Methods with Python.\"**](http://openedx.seas.gwu.edu/courses/GW/MAE6286/2014_fall/about)\n",
    "\n",
    "В первом ноутбуке, _“Фугоидное движение”_, была описана физика полета летательного аппарата по колебательной траектории. Такое движение можно преставить как перераспределение эненргии между ее кинетической и потенциальной формами. Это описание отсылает нас к Фредерику Ланчестеру и его труду “Аэродонетика” 1909 года, посвященному вопросам аэроусточивости. Мы завершили наше знакомство с этой задачей построением траекторий движения самолета, полученным согласно анализу Ланчестера, и именно эти траектории называются _фугоидами_. \n",
    "\n",
    "Рассмотрим ситуацию, когда самолет, движущийся по начальной прямолинейной траекториии (фугоид, получающийся при значениях параметров $C=2/3$, $\\cos\\theta=1$, и $z = z_t$), испытывает небольшое возмущение, например порыв ветра. В результате он начнет совершать плавные колебания относительно первоначального направления движения -- _фугоидные колебания_.\n",
    "\n",
    "Допустим, что ускорение самолета направлено вверх $-d^2z/dt^2$, и что возмущение мало - угол траектории меняется слабо и $\\cos\\theta = 1$, то второй закон Ньютона можно записать в виде\n",
    "\n",
    "$$\\begin{equation}\n",
    "L - W = - \\frac{W}{g}\\frac{d^2 z}{dt^2}\n",
    "\\end{equation}$$\n",
    "\n",
    "В предыдущем блокноте мы вывели следующее соотношение между весом и подъемной силой через триммерную скорость \n",
    " $v_t$:\n",
    "\n",
    "$$\\begin{equation}\n",
    "\\frac{L}{W}=\\frac{v^2}{v_t^2}\n",
    "\\end{equation}$$\n",
    "\n",
    "Оно нам еще пригодится: если поделить уравнение (1) на вес, то можно заменить $L/W$ соотношением (2). Второе ценное соотношение из предыдущего ноутбука -- закон сохранения энергии для единицы массы $v^2 = 2 gz$. Используя их, уравенение (1) можно записать в виде:\n",
    "\n",
    "$$\\begin{equation}\n",
    "\\frac{d^2z}{dt^2} + \\frac{gz}{z_t} = g\n",
    "\\end{equation}$$"
   ]
  },
  {
   "cell_type": "markdown",
   "metadata": {},
   "source": [
    "Что напоминает нам уравнение (3)?\n",
    "\n",
    "Если курс по физике еще не целиком вылетел из головы, то пытливый исследователь увидит в этом уравнении _закон гармонических колнбаний_.\n",
    "\n",
    "Хрестоматийном случай --  груз на пружине. Закон Гука для пружины $F=-kx$, где $F$ -- сила растяжения (сжатия), $x$ -- смещение относительно равновесного положения, а $k$ -- коэффициент упругости (или жёсткости). Уравнение второго закона Ньютона:\n",
    "\n",
    "$$\\begin{equation}\n",
    " \\frac{d^2 x}{dt^2}= -\\frac{k}{m}x\n",
    "\\end{equation}$$\n",
    "\n",
    "иммеет решение $x(t) = A \\cos(\\omega t- \\phi)$, описывающее простые гармонические колебания с частотой $\\omega=\\sqrt{k/m}=2\\pi f$ и фазой $\\phi$.\n",
    "\n",
    "Теперь вернемся к уравнению (3): оно выглядит в так же и тоже описывает простые гармонические колебания с частотой $\\omega=\\sqrt{g/z_t}$ относительно средней высоты $z_t$. \n",
    "\n",
    "\n",
    "Кроме того, можно определить и период колебаний: $2 \\pi \\sqrt{z_t/g}$, или, если выразить его через скорость: $\\pi \\sqrt{2} v_t/g$.\n",
    "\n",
    "_Это, вообще говоря, ценный результат!_ Не имея никакой информации о  летательном аппарате и высоте его полета, мы смогли опрелить период фугоидных колебаний в виде зависимости от триммерной скорости. Например, если триммерная скорость равна 200 узлам (примерно 370 $км/ч$), период колебаний получается равным 47 секундам -- такие колебания достаточно сложно заметить в реальности. \n",
    "\n",
    "Теперь нужно нарисовать траектории движения самолета для данного начального возмущения. Для этого мы численно проинтегрируем уравнение движения."
   ]
  },
  {
   "cell_type": "markdown",
   "metadata": {},
   "source": [
    "## Готовимся интегрировать"
   ]
  },
  {
   "cell_type": "markdown",
   "metadata": {},
   "source": [
    "Уравнение фугоида -- обыкновенное дифференциальное уравнение (ОДУ) второго порядка. Перепишем его в виде:\n",
    "\n",
    "$$\\begin{equation}\n",
    "z(t)'' + \\frac{g \\,z(t)}{z_t}=g\n",
    "\\end{equation}$$\n",
    "\n",
    "Распространенный прием работы с ОДУ -- представить уравнение 2-го порядка в виде системы уравнений 1-го порядка. В нашем случае:\n",
    "\n",
    "$$\\begin{eqnarray}\n",
    "z'(t) &=& b(t)\\\\\n",
    "b'(t) &=& g\\left(1-\\frac{z(t)}{z_t}\\right)\n",
    "\\end{eqnarray}$$\n",
    "\n",
    "Для лучшего понимания происходящего выкладки стоит повторить на бумаге.\n",
    "\n",
    "Теперь запишем эту систему в векторном виде. Введя вектор независмых переменных:\n",
    "\n",
    "$$\\begin{equation}\n",
    "\\vec{u}  = \\begin{pmatrix} z \\\\ b \\end{pmatrix}\n",
    "\\end{equation}$$,\n",
    "\n",
    "всю систему можно записать в виде одного векторного уравнения:\n",
    "\n",
    "\\begin{equation}\n",
    "\\vec{u}'(t)  = \\begin{pmatrix} b\\\\ g-g\\frac{z(t)}{z_t} \\end{pmatrix}\n",
    "\\end{equation}\n",
    "\n",
    "Если правую часть обозначить как $\\vec{f}(\\vec{u})$, то уравнение станет совсем коротким: $\\vec{u}'(t) = \\vec{f}(\\vec{u})$. Можно опустить знаки стрелочек над векторами для удобства. Но при этом нужно помнить, что $u$ и $f$ -- вектора в урвынении движения фугоида.\n",
    "\n",
    "Теперь все готово для численного решения задачи."
   ]
  },
  {
   "cell_type": "markdown",
   "metadata": {},
   "source": [
    "## Задача Коши"
   ]
  },
  {
   "cell_type": "markdown",
   "metadata": {},
   "source": [
    "Остановимся на секунду в нашем стремлении все проинтегрировать. Предположим, что у нас имеется ОДУ первого порядка $u'=f(u)$. Известно, что если его проинтегрировать, возникнет произвольная константа интегрирования. Для того, чтобы определить ее значение, нужно знать точку на кривой $(t, u)$. Если в ОДУ записана прозводная по времени, то такая точка называется _начальным условием_ и записывается в виде\n",
    "\n",
    "$$u(t=0)=u_0$$\n",
    "\n",
    "Как мы убедились, ОДУ второго порядка может быть записано как система ОДУ первого порядка, тогда нам нужно иметь начальные условия для каждого из уравнений системы -- два начальных условия для определения постоянных интегрирования. То же самое можно сказать для ОДУ более высоких порядков: для проядка $n$ можно записать систему из $n$ уравнений и использовать $n$ начальных условий. Если такой набор данных присутствует, то можно говорить, что сформулирована _задача Коши_.\n",
    "\n",
    "Как известно из определения производной, значение производной в точке означает наклон касательной к кривой $u=u(t)$:\n",
    "\n",
    "$$u'(t) = \\lim_{\\Delta t\\rightarrow 0} \\frac{u(t+\\Delta t)-u(t)}{\\Delta t}$$\n",
    "\n",
    "Если шаг по времени $\\Delta t$ достаточно мал, можно _аппроксимировать_ производную, отбросив предел:\n",
    "\n",
    "$$\\begin{equation}\n",
    "u(t+\\Delta t) \\approx u(t) + u'(t) \\Delta t\n",
    "\\end{equation}$$\n",
    "\n",
    "Используя это уравнение, зная значение  $u'(t)=f(u)$ и начальные условия, мы можем шагнуть на $\\Delta t$ и опрелить значение функции $u(t+\\Delta t)$. Затем мы можем повторить эту процедуру и, используя найденные значения, опредедить $u(t+2\\Delta t)$, и так далее. Так мы _делаем шаг по вермени_, численно определяя решение в серии моментов времени $t_1, t_2, t_3 \\cdots$, каждый из которых отстоит от предыдущего на $\\Delta t$. Численное решение ОДУ в итоге представляется в виде таблицы значений $t_i, u_i$."
   ]
  },
  {
   "cell_type": "markdown",
   "metadata": {},
   "source": [
    "## Дискретизация"
   ]
  },
  {
   "cell_type": "markdown",
   "metadata": {},
   "source": [
    "Для того, чтобы выполнить процедуру, описанную выше, и найти численное решение ОДУ, нужно начать с определеня значений $t_1,t_2,t_3 \\cdots t_n$ -- назовем их временной *сеткой*. Первая точка этой сетки задается _начальным усолвием_, разница между двумя последовательными моментами времени называется _шагом по времени_ и обозначается $\\Delta t$. Решение в момент времени $t_n$ обозначается $u_n$.\n",
    "\n",
    "Давайте построим временную сетку для нашей задачи. Сначала зададим конечный момент времени $T$ и шаг $\\Delta t$. В коде для их обозначения будем использовать переменные `T` и `dt`. Имея эти значения, можно вычислить число шагов по времени, необходимых для того, чтобы достичь конечного момента времени; назовем эту переменную `N`.\n",
    "\n",
    "Давайте уже кодить! Первым делом нужно импортировать необходимые библиотеки: NumPy для операций с векторами и модуль Pyplot из библиотеки Matplotlib для того, чтобы в последствии рисовать результаты. Строка `%matplotlib inline` нужна, чтобы отображать графики в ноктбуке."
   ]
  },
  {
   "cell_type": "code",
   "execution_count": 4,
   "metadata": {
    "collapsed": false
   },
   "outputs": [],
   "source": [
    "import numpy \n",
    "from matplotlib import pyplot\n",
    "%matplotlib inline"
   ]
  },
  {
   "cell_type": "markdown",
   "metadata": {},
   "source": [
    "Теперь нужно инициализировать переменные `T` и `dt`, вычислить `N` и создать массив NumPy, содержащий значения моментов времени."
   ]
  },
  {
   "cell_type": "code",
   "execution_count": 5,
   "metadata": {
    "collapsed": false
   },
   "outputs": [],
   "source": [
    "T = 100.0\n",
    "dt = 0.02\n",
    "N = int(T/dt)+1\n",
    "t = numpy.linspace(0.0, T, N)"
   ]
  },
  {
   "cell_type": "markdown",
   "metadata": {},
   "source": [
    "Построили сетку! Пора применять процедуру, описанную в (10)."
   ]
  },
  {
   "cell_type": "markdown",
   "metadata": {},
   "source": [
    "##### Задание!"
   ]
  },
  {
   "cell_type": "markdown",
   "metadata": {},
   "source": [
    "* В коде в предыдущей ячейке используется функция `linspace()`. Попробуйте переписать его, используя функцию `arange()`. Если нужно, обратитесь к документации для справки по этим функциям."
   ]
  },
  {
   "cell_type": "markdown",
   "metadata": {},
   "source": [
    "##### Подсказка:"
   ]
  },
  {
   "cell_type": "markdown",
   "metadata": {},
   "source": [
    "Если в ячейке кода набрать знак вопроса и имя функции, например `?numpy.linspace`, и выполнить ее, то вызовется панель с документацией."
   ]
  },
  {
   "cell_type": "markdown",
   "metadata": {},
   "source": [
    "## Метод Эйлера"
   ]
  },
  {
   "cell_type": "markdown",
   "metadata": {},
   "source": [
    "Обозначим  $u_n$ аппроксимацию решения на временном шаге $t_n$. Для получения численного решения системы уравненй нужно произвести последовательность вычислений по формуле, основанной на (10):\n",
    "\n",
    "$$u_{n+1} = u_n + \\Delta t \\,f(u_n).$$\n",
    "\n",
    "Это и есть **Метод Эйлера**.\n",
    "\n",
    "В случае уравнений фугоидных колебаний метод Эйлера дает следующий алгоритм::\n",
    "\n",
    "\\begin{align}\n",
    "z_{n+1} & = z_n + \\Delta t \\, b_n \\\\\n",
    "b_{n+1} & = b_n + \\Delta t \\left(g - \\frac{g}{z_t} \\, z_n \\right).\n",
    "\\end{align}"
   ]
  },
  {
   "cell_type": "markdown",
   "metadata": {},
   "source": [
    "### Решаем!"
   ]
  },
  {
   "cell_type": "markdown",
   "metadata": {},
   "source": [
    "Для того чтобы реализовать этод метод решения, нужно проделать следующие шаги: определить некоторые перменные, инициализировать массив, в котором будут храниться значения решения и еще один -- для текущих значений."
   ]
  },
  {
   "cell_type": "code",
   "execution_count": 6,
   "metadata": {
    "collapsed": false
   },
   "outputs": [],
   "source": [
    "# initial conditions\n",
    "z0 = 100.  #altitude\n",
    "b0  = 10.  #upward velocity resulting from gust\n",
    "zt = 100.\n",
    "g  = 9.81\n",
    "\n",
    "u = numpy.array([z0, b0])\n",
    "\n",
    "# initialize an array to hold the changing elevation values\n",
    "z = numpy.zeros(N)\n",
    "z[0] = z0  "
   ]
  },
  {
   "cell_type": "markdown",
   "metadata": {},
   "source": [
    "Нужно обратить внимание на несколько важных моментов:\n",
    "\n",
    "1. Точка после чисел в определении переменных -- мы явным образом опрелеляем тип создаваемых переменных (хорошая привычка)\n",
    "2. Массив `z` _создается_  и _инициализируется_ нулями. (Фукция `zeros()`)\n",
    "3. В последней строке первому элементу массива решений приписывается _начальным условием_.\n",
    "\n",
    "Теперь можно делать шаг по времени. Заметьте, что мы за одну итерацию мы определяем обе независимые переменные."
   ]
  },
  {
   "cell_type": "code",
   "execution_count": 7,
   "metadata": {
    "collapsed": false
   },
   "outputs": [],
   "source": [
    "# time-loop using Euler's method\n",
    "for n in range(1,N):\n",
    "    u = u + dt*numpy.array([u[1], g*(1-u[0]/zt)])\n",
    "    z[n] = u[0]"
   ]
  },
  {
   "cell_type": "markdown",
   "metadata": {},
   "source": [
    "Убедитесь, что вы понимаете, что тут запрограммировано. Шаблон численных методов -- итерации по времени в ходе которых на каждом шаге применяется численная схема."
   ]
  },
  {
   "cell_type": "markdown",
   "metadata": {},
   "source": [
    "## Рисуем решение"
   ]
  },
  {
   "cell_type": "markdown",
   "metadata": {},
   "source": [
    "Если все верно, в массиве `z` хранятся положения планера в каждый момент времени. Давайте воспользуемся возможностями Matplotlib для визуализации траектории. \n",
    "\n",
    "В следующей ячейке мы задаем размер графика, пределы на вертикальной оси, а также формат подписей к осям. В последней строчке рисуется сам график вфбранным нами стилем (черная сплошная линия)."
   ]
  },
  {
   "cell_type": "code",
   "execution_count": 8,
   "metadata": {
    "collapsed": false
   },
   "outputs": [
    {
     "data": {
      "image/png": "[encoded data removed]",
      "text/plain": [
       "<matplotlib.figure.Figure at 0x10b535128>"
      ]
     },
     "metadata": {},
     "output_type": "display_data"
    }
   ],
   "source": [
    "pyplot.figure(figsize=(10,4))   #set plot size\n",
    "pyplot.ylim(40,160)             #y-axis plot limits\n",
    "pyplot.tick_params(axis='both', labelsize=14) #increase font size for ticks\n",
    "pyplot.xlabel('t', fontsize=14) #x label\n",
    "pyplot.ylabel('z', fontsize=14) #y label\n",
    "pyplot.plot(t,z, 'k-');"
   ]
  },
  {
   "cell_type": "markdown",
   "metadata": {},
   "source": [
    "##### Воросы"
   ]
  },
  {
   "cell_type": "markdown",
   "metadata": {},
   "source": [
    "Попробуйте поменять начальные условия.  \n",
    "\n",
    "* Что произойдет при более сильном порыве ветра?  \n",
    "* При слабом?  \n",
    "* При нулевом (`v = 0`)?"
   ]
  },
  {
   "cell_type": "markdown",
   "metadata": {},
   "source": [
    "## Точное решение"
   ]
  },
  {
   "cell_type": "markdown",
   "metadata": {},
   "source": [
    "Уравнение для гармонических колебаний, значит решение -- синус и косинус:\n",
    "\n",
    "$$\n",
    "\\begin{equation}\n",
    "z(t) = A \\sin \\left(\\sqrt{\\frac{g}{z_t}} t \\right) + B \\cos \\left(\\sqrt{\\frac{g}{z_t}} t \\right) + z_t\n",
    "\\end{equation}\n",
    "$$ "
   ]
  },
  {
   "cell_type": "markdown",
   "metadata": {},
   "source": [
    "Константы определяем из начальных условий:\n",
    "\n",
    "$$\\begin{eqnarray}\n",
    "z(0) = z_0 \\\\\n",
    "b(0) = b_0\n",
    "\\end{eqnarray}$$\n",
    "\n",
    "После непродолжительных вычислений получим:\n",
    "\n",
    "$$\\begin{equation}\n",
    "z(t) = b_0 \\sqrt{\\frac{z_t}{g}} \\sin \\left(\\sqrt{\\frac{g}{z_t}} t \\right) + (z_0-z_t) \\cos \\left(\\sqrt{\\frac{g}{z_t}} t \\right) + z_t\n",
    "\\end{equation}$$"
   ]
  },
  {
   "cell_type": "markdown",
   "metadata": {},
   "source": [
    "Все значения мы уже задали, можем сразу получть точное решение."
   ]
  },
  {
   "cell_type": "code",
   "execution_count": 9,
   "metadata": {
    "collapsed": false
   },
   "outputs": [],
   "source": [
    "z_exact = b0*(zt/g)**.5*numpy.sin((g/zt)**.5*t)+\\\n",
    "                (z0-zt)*numpy.cos((g/zt)**.5*t)+zt"
   ]
  },
  {
   "cell_type": "markdown",
   "metadata": {},
   "source": [
    "## Рисуем точное решение"
   ]
  },
  {
   "cell_type": "markdown",
   "metadata": {},
   "source": [
    "Для того чтобы добавить еще одну кривую, нужно снова вызвать функцию `pyplot.plot()`. Кроме того можно добавить легенду:\n",
    "\n",
    "```Python\n",
    "pyplot.legend([\"line 1\",\"line 2\"])\n",
    "```"
   ]
  },
  {
   "cell_type": "code",
   "execution_count": 10,
   "metadata": {
    "collapsed": false
   },
   "outputs": [
    {
     "data": {
      "image/png": "[encoded data removed]",
      "text/plain": [
       "<matplotlib.figure.Figure at 0x10d69a780>"
      ]
     },
     "metadata": {},
     "output_type": "display_data"
    }
   ],
   "source": [
    "pyplot.figure(figsize=(10,4))\n",
    "pyplot.ylim(40,160)             #y-axis plot limits\n",
    "pyplot.tick_params(axis='both', labelsize=14) #increase font size for ticks\n",
    "pyplot.xlabel('t', fontsize=14) #x label\n",
    "pyplot.ylabel('z', fontsize=14) #y label\n",
    "pyplot.plot(t,z)\n",
    "pyplot.plot(t, z_exact)\n",
    "pyplot.legend(['Numerical Solution','Analytical Solution']);"
   ]
  },
  {
   "cell_type": "markdown",
   "metadata": {},
   "source": [
    "На первый взгляд аналитическое и численное решение совпадают хорошо, однако, можно заметить, что с ростом $t$ расхождение увеличивается. Точность метода. Если при уменьшениии величины шага $\\Delta t$ численное решение (аппроксимация) приближается к точному, то метод обладает свойством сходимости. Если при $\\Delta t\\rightarrow 0$ ошибка аппроксимации стремится к нулю, то метод обладает свойством согласованности."
   ]
  },
  {
   "cell_type": "markdown",
   "metadata": {},
   "source": [
    "## Сходимость"
   ]
  },
  {
   "cell_type": "markdown",
   "metadata": {},
   "source": [
    "Для корректного сравнения решений необходимо использовать какую-нибудь **норму**, например, норму $L_1$:\n",
    "\n",
    "$$ E = \\Delta t \\sum_{n=0}^N \\left|z(t_n) - z_n\\right|,$$\n",
    "\n",
    "что есть сумма разностей точного и численного решения в каждом узле сетки (с нормировочным множителем). Другими словами, $E$ это дискретная форма интеграла абсолютного значения разницы между вычисленным $z$ и точным $z_\\rm{exact}$ решениями, взятого на интервале $T$:\n",
    "\n",
    "$$ E = \\int \\vert z-z_\\rm{exact}\\vert dt $$\n",
    "\n",
    "Проверяем наш метод с разными $\\Delta t$ (dt).\n",
    "Проверим сходимость, вычислив решения для последовательно уменьшающихся значений dt. У нас уже написан почти весь код, нужный для этого. Надо только добавить дополнительный цикл по разным значениям шага по времени $\\Delta t$. \n",
    "\n",
    "Убедитесь, что вы понимаете, что происходит в следующей ячейке с кодом, возможно для этого придется посмотреть документацию по функции  [enumerate](https://docs.python.org/2/library/functions.html#enumerate)."
   ]
  },
  {
   "cell_type": "markdown",
   "metadata": {},
   "source": [
    "#### Предупреждение\n",
    "\n",
    "Для выполнения следующей ячейки с кодом может потребоваться некоторое время (только для вычислений с последним значением $\\Delta t$ требуется миллион итераций!).  Если ячейка находится в процессе выполнения, она помечается как `In [*]`. По окончании вычислений, звездочка `*` в этой метке заменится числом."
   ]
  },
  {
   "cell_type": "code",
   "execution_count": 11,
   "metadata": {
    "collapsed": false
   },
   "outputs": [],
   "source": [
    "# time-increment array\n",
    "dt_values = numpy.array([0.1, 0.05, 0.01, 0.005, 0.001, 0.0001])\n",
    "\n",
    "# array that will contain solution of each grid\n",
    "z_values = numpy.empty_like(dt_values, dtype=numpy.ndarray)\n",
    "\n",
    "for i, dt in enumerate(dt_values):\n",
    "    N = int(T/dt)+1    # number of time-steps\n",
    "    ### discretize the time using numpy.linspace() ###\n",
    "    t = numpy.linspace(0.0, T, N)\n",
    "\n",
    "    # initial conditions\n",
    "    u = numpy.array([z0, b0])\n",
    "    z = numpy.empty_like(t)\n",
    "    z[0] = z0\n",
    "    \n",
    "    # time loop - Euler method\n",
    "    for n in range(1,N):\n",
    "        ### compute next solution using Euler method ###\n",
    "        u = u + dt*numpy.array([u[1], g*(1-u[0]/zt)])\n",
    "        z[n] = u[0]   # store the elevation at time-step n+1\n",
    "    \n",
    "    z_values[i] = z.copy()    # store the total elevation calculation grid i"
   ]
  },
  {
   "cell_type": "markdown",
   "metadata": {},
   "source": [
    "### Вычисляем ошибку"
   ]
  },
  {
   "cell_type": "markdown",
   "metadata": {},
   "source": [
    "Теперь в массиве `z_values` хранятся численные решения для каждого шаго по времени $\\Delta t$. Для определения ошибки, соответствующей каждому значению $\\Delta t$, нужно написать еще одну функцию."
   ]
  },
  {
   "cell_type": "code",
   "execution_count": 12,
   "metadata": {
    "collapsed": false
   },
   "outputs": [],
   "source": [
    "def get_error(z, dt):\n",
    "    \"\"\"Returns the error relative to analytical solution using L-1 norm.\n",
    "    \n",
    "    Parameters\n",
    "    ----------\n",
    "    z : array of float\n",
    "        numerical solution.\n",
    "    dt : float\n",
    "        time increment.\n",
    "        \n",
    "    Returns\n",
    "    -------\n",
    "    err : float\n",
    "        L_{1} norm of the error with respect to the exact solution.\n",
    "    \"\"\"\n",
    "    N = len(z)\n",
    "    t = numpy.linspace(0.0, T, N)\n",
    "    \n",
    "    z_exact = b0*(zt/g)**.5*numpy.sin((g/zt)**.5*t)+\\\n",
    "                (z0-zt)*numpy.cos((g/zt)**.5*t)+zt\n",
    "    \n",
    "    return dt * numpy.sum(numpy.abs(z-z_exact))"
   ]
  },
  {
   "cell_type": "markdown",
   "metadata": {},
   "source": [
    "Теперь в цикле по $\\Delta t$ вычислим ошибки."
   ]
  },
  {
   "cell_type": "code",
   "execution_count": 13,
   "metadata": {
    "collapsed": false
   },
   "outputs": [],
   "source": [
    "error_values = numpy.empty_like(dt_values)\n",
    "\n",
    "for i, dt in enumerate(dt_values):\n",
    "    ### call the function get_error() ###\n",
    "    error_values[i] = get_error(z_values[i], dt)"
   ]
  },
  {
   "cell_type": "markdown",
   "metadata": {},
   "source": [
    "Следует помнить, что численная ошибка *сходящегося* метода уменьшается с уменьшением шага по времени. Для визуализации этого свойства построим график в осях $\\Delta t$ и числелнная ошибка. Если использовать для этого знакомую нам функцию `pyplot.plot`, результат будет не слишком наглядным. Вместо нее можно воспользоваться функцией `pyplot.loglog`, которая позволяет строить график в логарифмическом масштабе. Для оценки ошибок численных схем практически всегда используется такой способ построения графиков."
   ]
  },
  {
   "cell_type": "code",
   "execution_count": 14,
   "metadata": {
    "collapsed": false
   },
   "outputs": [
    {
     "data": {
      "text/plain": [
       "(0.0001, 0.10000000000000001, 0.10000000000000001, 1000.0)"
      ]
     },
     "execution_count": 14,
     "metadata": {},
     "output_type": "execute_result"
    },
    {
     "data": {
      "image/png": "[encoded data removed]",
      "text/plain": [
       "<matplotlib.figure.Figure at 0x110523358>"
      ]
     },
     "metadata": {},
     "output_type": "display_data"
    }
   ],
   "source": [
    "pyplot.figure(figsize=(10, 6))\n",
    "pyplot.tick_params(axis='both', labelsize=14) #increase tick font size\n",
    "pyplot.grid(True)                         #turn on grid lines\n",
    "pyplot.xlabel('$\\Delta t$', fontsize=16)  #x label\n",
    "pyplot.ylabel('Error', fontsize=16)       #y label\n",
    "pyplot.loglog(dt_values, error_values, 'ko-')  #log-log plot\n",
    "pyplot.axis('equal')                      #make axes scale equally;"
   ]
  },
  {
   "cell_type": "markdown",
   "metadata": {},
   "source": [
    "Смотришь на график --  глаз радуется! По мере того как убывает величина шага по времени (справа налево по горизонтальной оси), численная ошибка становится все меньше и меньше, как и следовало ожидать. "
   ]
  },
  {
   "cell_type": "markdown",
   "metadata": {},
   "source": [
    "### Задание\n",
    "\n",
    "Для вычисления ошибки при различных шагах по времени мы использовали два вложенных цикла `for`. Это, как мы видели, работает, но желательно писать код, пригодный к повторному использованию с минимальной копипастой.\n",
    "\n",
    "Напишите функцию, реализующую метод Эйлера, и перепешите ячейку с анализом ошибки численного решения с использованием созданной функции."
   ]
  },
  {
   "cell_type": "markdown",
   "metadata": {},
   "source": [
    "---\n",
    "\n",
    "###### The cell below loads the style of this notebook."
   ]
  },
  {
   "cell_type": "code",
   "execution_count": 16,
   "metadata": {
    "collapsed": false
   },
   "outputs": [
    {
     "data": {
      "text/html": [
       "<link href='http://fonts.googleapis.com/css?family=Alegreya+Sans:100,300,400,500,700,800,900,100italic,300italic,400italic,500italic,700italic,800italic,900italic' rel='stylesheet' type='text/css'>\n",
       "<link href='http://fonts.googleapis.com/css?family=Arvo:400,700,400italic' rel='stylesheet' type='text/css'>\n",
       "<link href='http://fonts.googleapis.com/css?family=PT+Mono' rel='stylesheet' type='text/css'>\n",
       "<link href='http://fonts.googleapis.com/css?family=Shadows+Into+Light' rel='stylesheet' type='text/css'>\n",
       "<link href='http://fonts.googleapis.com/css?family=Nixie+One' rel='stylesheet' type='text/css'>\n",
       "<link href='https://fonts.googleapis.com/css?family=Source+Code+Pro' rel='stylesheet' type='text/css'>\n",
       "<style>\n",
       "\n",
       "@font-face {\n",
       "    font-family: \"Computer Modern\";\n",
       "    src: url('http://mirrors.ctan.org/fonts/cm-unicode/fonts/otf/cmunss.otf');\n",
       "}\n",
       "\n",
       "#notebook_panel { /* main background */\n",
       "    background: rgb(245,245,245);\n",
       "}\n",
       "\n",
       "div.cell { /* set cell width */\n",
       "    width: 750px;\n",
       "}\n",
       "\n",
       "div #notebook { /* centre the content */\n",
       "    background: #fff; /* white background for content */\n",
       "    width: 1000px;\n",
       "    margin: auto;\n",
       "    padding-left: 0em;\n",
       "}\n",
       "\n",
       "#notebook li { /* More space between bullet points */\n",
       "    margin-top:0.8em;\n",
       "}\n",
       "\n",
       "/* draw border around running cells */\n",
       "div.cell.border-box-sizing.code_cell.running { \n",
       "    border: 1px solid #111;\n",
       "}\n",
       "\n",
       "/* Put a solid color box around each cell and its output, visually linking them*/\n",
       "div.cell.code_cell {\n",
       "    background-color: rgb(256,256,256); \n",
       "    border-radius: 0px; \n",
       "    padding: 0.5em;\n",
       "    margin-left:1em;\n",
       "    margin-top: 1em;\n",
       "}\n",
       "\n",
       "div.text_cell_render{\n",
       "    font-family: 'Alegreya Sans' sans-serif;\n",
       "    line-height: 140%;\n",
       "    font-size: 125%;\n",
       "    font-weight: 400;\n",
       "    width:600px;\n",
       "    margin-left:auto;\n",
       "    margin-right:auto;\n",
       "}\n",
       "\n",
       "\n",
       "/* Formatting for header cells */\n",
       ".text_cell_render h1 {\n",
       "    font-family: 'Nixie One', serif;\n",
       "    font-style:regular;\n",
       "    font-weight: 400;    \n",
       "    font-size: 45pt;\n",
       "    line-height: 100%;\n",
       "    color: rgb(0,51,102);\n",
       "    margin-bottom: 0.5em;\n",
       "    margin-top: 0.5em;\n",
       "    display: block;\n",
       "}\n",
       "\n",
       ".text_cell_render h2 {\n",
       "    font-family: 'Nixie One', serif;\n",
       "    font-weight: 400;\n",
       "    font-size: 30pt;\n",
       "    line-height: 100%;\n",
       "    color: rgb(0,51,102);\n",
       "    margin-bottom: 0.1em;\n",
       "    margin-top: 0.3em;\n",
       "    display: block;\n",
       "}\t\n",
       "\n",
       ".text_cell_render h3 {\n",
       "    font-family: 'Nixie One', serif;\n",
       "    margin-top:16px;\n",
       "    font-size: 22pt;\n",
       "    font-weight: 600;\n",
       "    margin-bottom: 3px;\n",
       "    font-style: regular;\n",
       "    color: rgb(102,102,0);\n",
       "}\n",
       "\n",
       ".text_cell_render h4 {    /*Use this for captions*/\n",
       "    font-family: 'Nixie One', serif;\n",
       "    font-size: 14pt;\n",
       "    text-align: center;\n",
       "    margin-top: 0em;\n",
       "    margin-bottom: 2em;\n",
       "    font-style: regular;\n",
       "}\n",
       "\n",
       ".text_cell_render h5 {  /*Use this for small titles*/\n",
       "    font-family: 'Nixie One', sans-serif;\n",
       "    font-weight: 400;\n",
       "    font-size: 16pt;\n",
       "    color: rgb(163,0,0);\n",
       "    font-style: italic;\n",
       "    margin-bottom: .1em;\n",
       "    margin-top: 0.8em;\n",
       "    display: block;\n",
       "}\n",
       "\n",
       ".text_cell_render h6 { /*use this for copyright note*/\n",
       "    font-family: 'PT Mono', sans-serif;\n",
       "    font-weight: 300;\n",
       "    font-size: 9pt;\n",
       "    line-height: 100%;\n",
       "    color: grey;\n",
       "    margin-bottom: 1px;\n",
       "    margin-top: 1px;\n",
       "}\n",
       "\n",
       ".CodeMirror{\n",
       "    font-family: \"Source Code Pro\";\n",
       "    font-size: 90%;\n",
       "}\n",
       "\n",
       ".alert-box {\n",
       "    padding:10px 10px 10px 36px;\n",
       "    margin:5px;\n",
       "}\n",
       "\n",
       ".success {\n",
       "    color:#666600;\n",
       "    background:rgb(240,242,229);\n",
       "}\n",
       "</style>\n",
       "<script>\n",
       "    MathJax.Hub.Config({\n",
       "                        TeX: {\n",
       "                           extensions: [\"AMSmath.js\"],\n",
       "                           equationNumbers: { autoNumber: \"AMS\", useLabelIds: true}\n",
       "                           },\n",
       "                tex2jax: {\n",
       "                    inlineMath: [ ['$','$'], [\"\\\\(\",\"\\\\)\"] ],\n",
       "                    displayMath: [ ['$$','$$'], [\"\\\\[\",\"\\\\]\"] ]\n",
       "                },\n",
       "                displayAlign: 'center', // Change this to 'center' to center equations.\n",
       "                \"HTML-CSS\": {\n",
       "                    styles: {'.MathJax_Display': {\"margin\": 4}}\n",
       "                }\n",
       "        });\n",
       "</script>\n"
      ],
      "text/plain": [
       "<IPython.core.display.HTML object>"
      ]
     },
     "execution_count": 16,
     "metadata": {},
     "output_type": "execute_result"
    }
   ],
   "source": [
    "from IPython.core.display import HTML\n",
    "css_file = '../../styles/numericalmoocstyle.css'\n",
    "HTML(open(css_file, \"r\").read())"
   ]
  },
  {
   "cell_type": "code",
   "execution_count": null,
   "metadata": {
    "collapsed": true
   },
   "outputs": [],
   "source": []
  }
 ],
 "metadata": {
  "anaconda-cloud": {},
  "kernelspec": {
   "display_name": "Python [Root]",
   "language": "python",
   "name": "Python [Root]"
  },
  "language_info": {
   "codemirror_mode": {
    "name": "ipython",
    "version": 3
   },
   "file_extension": ".py",
   "mimetype": "text/x-python",
   "name": "python",
   "nbconvert_exporter": "python",
   "pygments_lexer": "ipython3",
   "version": "3.5.2"
  }
 },
 "nbformat": 4,
 "nbformat_minor": 0
}
