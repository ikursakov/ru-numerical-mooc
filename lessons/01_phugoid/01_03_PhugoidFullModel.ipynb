{
 "cells": [
  {
   "cell_type": "markdown",
   "metadata": {},
   "source": [
    "###### Content under Creative Commons Attribution license CC-BY 4.0, code under MIT license (c)2014 L.A. Barba, G.F. Forsyth, I. Hawke. Partly based on content by David Ketcheson, also under CC-BY."
   ]
  },
  {
   "cell_type": "markdown",
   "metadata": {},
   "source": [
    "# Общая модель фугоида"
   ]
  },
  {
   "cell_type": "markdown",
   "metadata": {},
   "source": [
    "Это третий блокнот, посвященный _фугоидной модели движения планера_, первого учебного модуля русской версии курса  [**\"Practical Numerical Methods with Python.\"**](http://openedx.seas.gwu.edu/courses/GW/MAE6286/2014_fall/about). В первом ноутбуке были описаны физические аспекты колебательных траекторий, известных как _фугоиды_, которые являются результатом перераспределения эненргии между ее кинетической и потенциальной формами при полете летательного аппарата без сопротивления. В том же ноутбуке был написан аккуратный код, который позволяет отрисовать разнообразные фугоидные кривые.\n",
    "\n",
    "Во втором ноутбуке мы детальнее изучили систему уравнений, описывающую малые колебания относительно прямолинейного фугоида, сводящиеся к гармоническим колебаниям. Это система обыкновенных дифференциальных уравнений второго порядка, которую мы решили при помощи простейшего численного метода — **метода Эйлера**. Мы узнали про сходимость метода и определили ошибку численного метода, сравнив численное решение с аналитическим. Неплохой задел!\n",
    "\n",
    "Теперь давайте вернемся к первоначальной динамической модели движения и избавимся от упрощения, заключающегося в отсутствии сопротивления. Вспомним, какие силы действуют на летательный аппарат, движущийся (возможно с ускорением) по мгновенной трактории, направленной вверх. Угол наклона траектории обозначим $\\theta$, направление \"против часовой стрелки\" будем считать положительным."
   ]
  },
  {
   "cell_type": "markdown",
   "metadata": {},
   "source": [
    "![Image](./figures/glider_forces-lesson3.png)\n",
    "#### Рисунок 1. Силы, действующие на летательный аппарат и положительное направление угла наклона траектории."
   ]
  },
  {
   "cell_type": "markdown",
   "metadata": {},
   "source": [
    "На Рисунке 1 подъемная сила обозначена как $L$, вес как $W$, лобовое сопротивление как $D$, а положительный угол наклона траектории как $\\theta$.\n",
    "\n",
    "На первом занятии мы записывали баланс сил в касательном и перпендикулярном направлениях к траектории движнния планера, находящегося в _равновесии_. В случае же, когда силы, действующие на летательный аппарат, не уравновешивают друг друга, согласно второму закону Ньютона, можно записать:\n",
    "\n",
    "\\begin{align}\n",
    "m \\frac{dv}{dt} & = - W \\sin\\theta - D \\\\\n",
    "m v \\, \\frac{d\\theta}{dt} & = - W \\cos\\theta + L\n",
    "\\end{align}\n",
    "\n",
    "Проведем несколько косметических преобразований. Обозначим производные с помощью штрихов и разделим обе части системы на вес самолета:\n",
    "\n",
    "\\begin{align}\n",
    " \\frac{v'}{g} & = - \\sin\\theta - D/W \\\\\n",
    "\\frac{v}{g} \\, \\theta' & = - \\cos\\theta + L/W\n",
    "\\end{align}\n",
    "\n",
    "Воспользуемся выражением для отношения подъемной силы и веса планера, выведенным на первом занятии — $L/W=v^2/v_t^2$. Кроме того, из определения выражений для подъемной силы и сопротивления \n",
    "\n",
    "$$\\begin{eqnarray}\n",
    "L &=& C_L S \\times \\frac{1}{2} \\rho v^2 \\\\\n",
    "D &=& C_D S \\times \\frac{1}{2} \\rho v^2\n",
    "\\end{eqnarray}$$\n",
    "\n",
    "следует, что $L/D=C_L/C_D$. С учетом этих соотношений исходная система может быть переписана в виде\n",
    "\n",
    "\\begin{align}\n",
    " v' & = - g\\, \\sin\\theta - \\frac{C_D}{C_L} \\frac{g}{v_t^2} v^2 \\\\\n",
    " \\theta' & = - \\frac{g}{v}\\,\\cos\\theta + \\frac{g}{v_t^2}\\, v\n",
    "\\end{align}\n",
    "\n",
    "Стоит отметить, что первое уравнение системы содержит множитель $C_D/C_L$, который является величиной, обратной аэродинамическому качеству летательного аппарата. Оказывается, этот член уравнения привносит демпфирование в модель фугоидного движения. Если трение отсутствует ($C_D/C_L = 0$), то нет и демпфирования. В реальных условиях трение всегда отлично от нуля, но по мере совершенствования летательных аппаратов фугоидные колебания становятся все менее затухающими. При полете на высоте это практически не важно, однако, вертикальные колебания летательного аппарата при посадке могут оказаться весьма опасными, на них следует обращать особое внимание. "
   ]
  },
  {
   "cell_type": "markdown",
   "metadata": {},
   "source": [
    "## Задача Коши"
   ]
  },
  {
   "cell_type": "markdown",
   "metadata": {},
   "source": [
    "Для того, чтобы визуализировать траектории движения, полученные в рамках описанной модели, нужно проинтегрировать уравнения для пространственных координат, которые зависят от продольной скорости (касательной к траеткории) и угла наклона траектории. Положение планера в вертикальной плоскости в выбранной системе координат описывается координатами $(x, y)$, которые можно получить из уравнений:\n",
    "\n",
    "\\begin{align}\n",
    "x'(t) & = v \\cos(\\theta) \\\\\n",
    "y'(t) & = v \\sin(\\theta).\n",
    "\\end{align}\n",
    "\n",
    "Добавив эти два уравнения к исходной системе, получим систему из четырех ОДУ первого порядка. Для ее решения, как и на прошлом занятии, воспользуемся процедурой марша по времени. Для этого нам нужны *начальные значения* для каждой переменной:\n",
    "\n",
    "$$\n",
    "v(0) = v_0 \\quad \\text{и} \\quad \\theta(0) = \\theta_0\\\\\n",
    "x(0) = x_0 \\quad \\text{и} \\quad y(0) = y_0\n",
    "$$\n"
   ]
  },
  {
   "cell_type": "markdown",
   "metadata": {},
   "source": [
    "## Решение при помощи метода Эйлера"
   ]
  },
  {
   "cell_type": "markdown",
   "metadata": {},
   "source": [
    "Как применить к полученной системе метод Эйлера, нам известно из прошлого занятия. Заменим производные аппроксимациями в виде:\n",
    "\n",
    "$$v'(t) \\approx \\frac{v^{n+1} - v^n}{\\Delta t},$$\n",
    "\n",
    "где индекс $n$ используется для обозначения $n$-го значения итерации по времени. Например, для первого уравнения системы имеем:\n",
    "\n",
    "$$\\frac{v^{n+1} - v^n}{\\Delta t} = - g\\, \\sin\\theta^n - \\frac{C_D}{C_L} \\frac{g}{v_t^2} (v^n)^2$$\n",
    "\n",
    "Ну а дальше все по накатанной. На каждом шаге по времени $t^n$ нужно вычислить все известные параметры системы для того, чтобы получить решение на $t^{n+1}$-м, следующем шаге по времени. Эта процедура называется _шагами по времени_ или _маршем по времени_.\n",
    "\n",
    "Вся система уравнений в дискретном виде выглядит следующим образом:\n",
    "\n",
    "\\begin{align}\n",
    "v^{n+1} & = v^n + \\Delta t \\left(- g\\, \\sin\\theta^n - \\frac{C_D}{C_L} \\frac{g}{v_t^2} (v^n)^2 \\right) \\\\\n",
    "\\theta^{n+1} & = \\theta^n + \\Delta t \\left(- \\frac{g}{v^n}\\,\\cos\\theta^n + \\frac{g}{v_t^2}\\, v^n \\right) \\\\\n",
    "x^{n+1} & = x^n + \\Delta t \\, v^n \\cos\\theta^n \\\\\n",
    "y^{n+1} & = y^n + \\Delta t \\, v^n \\sin\\theta^n.\n",
    "\\end{align}"
   ]
  },
  {
   "cell_type": "markdown",
   "metadata": {},
   "source": [
    "Как нам уже известно, систему ОДУ можно записать в векторном виде:\n",
    "\n",
    "$$u'(t) = f(u),$$\n",
    "\n",
    "где\n",
    "\n",
    "\\begin{align}\n",
    "u & = \\begin{pmatrix} v \\\\ \\theta \\\\ x \\\\ y \\end{pmatrix} & f(u) & = \\begin{pmatrix} - g\\, \\sin\\theta - \\frac{C_D}{C_L} \\frac{g}{v_t^2} v^2 \\\\ - \\frac{g}{v}\\,\\cos\\theta + \\frac{g}{v_t^2}\\, v \\\\ v\\cos\\theta \\\\ v\\sin\\theta \\end{pmatrix}.\n",
    "\\end{align}\n",
    "\n",
    "\n",
    "Реализовать решение при помощи массива NumPy, в котором будут храниться все независимые переменные не вполне тривиальная задача. Но если все же выбрать такой путь, то функция для шага по методу Эйлера может быть записана в виде, который позволяет получить решения для произвольного числа уравнений в системе. Шаг по времени реализуется при помощи одной и той же строчки кода:\n",
    "\n",
    "```Python\n",
    "def euler_step(u, f, dt):\n",
    "    return u + dt * f(u)\n",
    "```\n",
    "\n",
    "Приведенная функция в качестве одного из аргументов принимает NumPy-массив  `u` с произвольной длины. Все что нужно для корректной работы алгоритма — создать соответствующую функцию правой части `f(u)`. Обратите внммание, что в списке передаваемых аргументов для функции `euler_step()` присутсвует _функция_."
   ]
  },
  {
   "cell_type": "markdown",
   "metadata": {},
   "source": [
    "### Решаем!"
   ]
  },
  {
   "cell_type": "markdown",
   "metadata": {},
   "source": [
    "Как обычно, все начинается с загрузки модулей и библиотек,  необходимых для решения задачи. Для исследования сходимости нам понадобятся некоторые трансцедентные функции, в том числе $\\log$. Напоминаю, что строчка `%matplotlib inline` — это магическая функция, которая сообщает Matplotlib о нашем желании видеть результат отисовки графиков прямо в блокноте (по умолчанию, для этого создается отдельное окно). Помимо прочего, мы импотритуем модуль `rcParams` для определения глобальных настроек рисования: гарнитуры и размера шрифтов. Поехали!"
   ]
  },
  {
   "cell_type": "code",
   "execution_count": 1,
   "metadata": {
    "collapsed": false
   },
   "outputs": [],
   "source": [
    "from math import sin, cos, log, ceil\n",
    "import numpy\n",
    "from matplotlib import pyplot\n",
    "%matplotlib inline\n",
    "from matplotlib import rcParams\n",
    "rcParams['font.family'] = 'serif'\n",
    "rcParams['font.size'] = 16"
   ]
  },
  {
   "cell_type": "markdown",
   "metadata": {},
   "source": [
    "Далее, нужно задать параметры модели и _начальные условия_ для численного решения. С ускорением свободного падения все просто, это 9.8 м/с$^2$, но какое значение задавать для аэодинамического качества? Можно выбрать что-нибудь подходящее из таблицы в Википедии [Аэродинамическое качество](https://ru.wikipedia.org/wiki/%D0%90%D1%8D%D1%80%D0%BE%D0%B4%D0%B8%D0%BD%D0%B0%D0%BC%D0%B8%D1%87%D0%B5%D1%81%D0%BA%D0%BE%D0%B5_%D0%BA%D0%B0%D1%87%D0%B5%D1%81%D1%82%D0%B2%D0%BE): современный планер может обладать качеством от 40 до 60, в зависимости от размаха крыла (а, например, у белки-летяги качество примерно 2).\n",
    "\n",
    "Что касается _триммерной скорости_, крейсерская скорость современного планера варьируется в пределаз от 65 до 280 км/ч, по информации из той же Википедии. В единицах СИ это будет от 18 до 78 м/с. Выберем что-нибудь посередине.\n",
    "\n",
    "Ниже приведен возможный набор параметров, подходящий для моделирования. На досуге поменяйте некоторые из них и посмотрите, что получится."
   ]
  },
  {
   "cell_type": "code",
   "execution_count": 2,
   "metadata": {
    "collapsed": false
   },
   "outputs": [],
   "source": [
    "# model parameters:\n",
    "g = 9.8      # gravity in m s^{-2}\n",
    "v_t = 30.0   # trim velocity in m s^{-1}   \n",
    "C_D = 1/40  # drag coefficient --- or D/L if C_L=1\n",
    "C_L = 1   # for convenience, use C_L = 1\n",
    "\n",
    "### set initial conditions ###\n",
    "v0 = v_t     # start at the trim velocity (or add a delta)\n",
    "theta0 = 0 # initial angle of trajectory\n",
    "x0 = 0     # horizotal position is arbitrary\n",
    "y0 = 1000  # initial altitude"
   ]
  },
  {
   "cell_type": "markdown",
   "metadata": {},
   "source": [
    "Определим функцию `f()` правой части уравнения (15) — векторной записи нашей системы уравнений. Предполагается, что значения параметов модели заданы. То есть выполнения верхней ячейки с новыми значениями параметров, достаточно для того, чтобы получить ноыве значения правой части, и переопределять функцию `f()` заново не нужно."
   ]
  },
  {
   "cell_type": "code",
   "execution_count": 3,
   "metadata": {
    "collapsed": false
   },
   "outputs": [],
   "source": [
    "def f(u):\n",
    "    \"\"\"Returns the right-hand side of the phugoid system of equations.\n",
    "    \n",
    "    Parameters\n",
    "    ----------\n",
    "    u : array of float\n",
    "        array containing the solution at time n.\n",
    "        \n",
    "    Returns\n",
    "    -------\n",
    "    dudt : array of float\n",
    "        array containing the RHS given u.\n",
    "    \"\"\"\n",
    "    \n",
    "    v = u[0]\n",
    "    theta = u[1]\n",
    "    x = u[2]\n",
    "    y = u[3]\n",
    "    return numpy.array([-g*sin(theta) - C_D/C_L*g/v_t**2*v**2,\n",
    "                      -g*cos(theta)/v + g/v_t**2*v,\n",
    "                      v*cos(theta),\n",
    "                      v*sin(theta)])"
   ]
  },
  {
   "cell_type": "markdown",
   "metadata": {},
   "source": [
    "Сравните опреление функции в коде с формулой для `f()` из дифференциального уравнения и убедитесь, что нет опечаток!\n",
    "\n",
    "\\begin{align}\n",
    "u & = \\begin{pmatrix} v \\\\ \\theta \\\\ x \\\\ y \\end{pmatrix} & f(u) & = \\begin{pmatrix} - g\\, \\sin\\theta - \\frac{C_D}{C_L} \\frac{g}{v_t^2} v^2 \\\\ - \\frac{g}{v}\\,\\cos\\theta + \\frac{g}{v_t^2}\\, v \\\\ v\\cos\\theta \\\\ v\\sin\\theta \\end{pmatrix} \\nonumber\n",
    "\\end{align}\n",
    "\n",
    "Теперь все готово для реализации метода Эйлера в самом простом виде, назовем эту функцию `euler_step()`:"
   ]
  },
  {
   "cell_type": "code",
   "execution_count": 5,
   "metadata": {
    "collapsed": false
   },
   "outputs": [],
   "source": [
    "def euler_step(u, f, dt):\n",
    "    \"\"\"Returns the solution at the next time-step using Euler's method.\n",
    "    \n",
    "    Parameters\n",
    "    ----------\n",
    "    u : array of float\n",
    "        solution at the previous time-step.\n",
    "    f : function\n",
    "        function to compute the right hand-side of the system of equations.\n",
    "    dt : float\n",
    "        time-increment.\n",
    "    \n",
    "    Returns\n",
    "    -------\n",
    "    u_n_plus_1 : array of float\n",
    "        approximate solution at the next time step.\n",
    "    \"\"\"\n",
    "    \n",
    "    return u + dt * f(u)"
   ]
  },
  {
   "cell_type": "markdown",
   "metadata": {},
   "source": [
    "Определив конечный момент времени и шаг $\\Delta t$, мы можем построить расчетную сетку при помощи функции [`linspace()`](http://docs.scipy.org/doc/numpy/reference/generated/numpy.linspace.html) из библиотеки NumPy. Убедитесь, что вы разобрались с теми особенностями, которые возникают при генерации расчетной сетки: например, зачем нужно добавлять 1 при определении числа шагов по времени `N`?\n",
    "\n",
    "Посмотрите на код в следующей ячейке и убедитесь, что вы понимаете перечисленные ниже особенности:\n",
    "\n",
    "* Массив `u` содержит решение на каждом шаге по времени, которое орисывается четырьмя переменными: скоростью, углом траектории и координатами планера.\n",
    "* Первый элемент массива `u` задается исходя из начальных условий задачи.\n",
    "* На каждом шаге цикла `for` для получения решения на временном слое $n+1$ вызвается функция `euler_step()`."
   ]
  },
  {
   "cell_type": "code",
   "execution_count": 6,
   "metadata": {
    "collapsed": false
   },
   "outputs": [],
   "source": [
    "T = 100                          # final time\n",
    "dt = 0.1                           # time increment\n",
    "N = int(T/dt) + 1                  # number of time-steps\n",
    "t = numpy.linspace(0, T, N)      # time discretization\n",
    "\n",
    "# initialize the array containing the solution for each time-step\n",
    "u = numpy.empty((N, 4))\n",
    "u[0] = numpy.array([v0, theta0, x0, y0])# fill 1st element with initial values\n",
    "\n",
    "# time loop - Euler method\n",
    "for n in range(N-1):\n",
    "    \n",
    "    u[n+1] = euler_step(u[n], f, dt)"
   ]
  },
  {
   "cell_type": "markdown",
   "metadata": {},
   "source": [
    "## Рисуем траекторию"
   ]
  },
  {
   "cell_type": "markdown",
   "metadata": {},
   "source": [
    "Для того чтобы нарисовать траекторию планера, нам потребуются его координаты (`x`, `y`), упорядоченные по времени. Эта информация уже содержится в массиве с численным решением, нужно только ее оттуда выудить.\n",
    "\n",
    "Убедитесь, что вы понимаете, что происходит с индексацией массива `u` ниже. При необходимости, обратитесь к справке [Indexing](http://docs.scipy.org/doc/numpy/reference/arrays.indexing.html)."
   ]
  },
  {
   "cell_type": "code",
   "execution_count": 7,
   "metadata": {
    "collapsed": false
   },
   "outputs": [],
   "source": [
    "# get the glider's position with respect to the time\n",
    "x = u[:,2]\n",
    "y = u[:,3]"
   ]
  },
  {
   "cell_type": "markdown",
   "metadata": {},
   "source": [
    "Пора нарисовать траекторию и опрелить пройденное планером расстояние."
   ]
  },
  {
   "cell_type": "code",
   "execution_count": 8,
   "metadata": {
    "collapsed": false
   },
   "outputs": [
    {
     "data": {
      "image/png": "[encoded data removed]",
      "text/plain": [
       "<matplotlib.figure.Figure at 0x7980438>"
      ]
     },
     "metadata": {},
     "output_type": "display_data"
    }
   ],
   "source": [
    "# visualization of the path\n",
    "pyplot.figure(figsize=(8,6))\n",
    "pyplot.grid(True)\n",
    "pyplot.xlabel(r'x', fontsize=18)\n",
    "pyplot.ylabel(r'y', fontsize=18)\n",
    "pyplot.title('Glider trajectory, flight time = %.2f' % T, fontsize=18)\n",
    "pyplot.plot(x,y, 'k-', lw=2);"
   ]
  },
  {
   "cell_type": "markdown",
   "metadata": {},
   "source": [
    "## Сходимость по сетке"
   ]
  },
  {
   "cell_type": "markdown",
   "metadata": {},
   "source": [
    "Исследуем сходимость метода Эйлера преминительно к модели фугоида. На предыдущем занятии, когда рассматривалось движение по  прямолинейному фугоиду под действием малого возмущения, мы исследовали сходимость, сравнивая полученное численное решение с точным. К сожалению, большинство задач не имеют точного аналитического решения (имменно поэтому мы и занимаемся численными методами). Приятная обстоятельство: для изучения сходимости метода вместо аналитического решения можно использовать численные решения, полученные на сетках различной мощности.\n",
    "\n",
    "В этом случае, надо признать, нужна уверенность, что решение на подробной сетке  описывает все особенность математической модели. Попробуем разобраться, как это сделать.\n",
    "\n",
    "Для начала нужно получить последовательность решений одной и той же задачи на секах с различным количеством точек. \n",
    "\n",
    "Создадим масссив NumPy с именем `dt_values`, который будет содержать шаги по времени для каждой сетки, на которой будет вестись расчет. Для каждого элемента `dt_values[i]` методом Эйлера получим решение `u_values[i]`. Каждое решение в свою очередь является массивом, то есть `u_values` — массив, содержащий массивы. \n",
    "\n",
    "Для того чтобы заполнить этот массив, у нас в рукаве припрятан козырь: `enumerate()`. Чтобы получить решения — каждое с собственным шагом по времени $\\Delta t$ — нужно пройтись в цикле по значениям `dt_values`. При этом необходимо иметь доступ как к самому значению `dt_values[i]` так и к индексу `i`. Как раз для этих целей и предназначена встроенная функция `enumerate()`, котора гененрирует пары `(индекс, значение)` для любой итерируемой последовательности.\n",
    "\n",
    "Внимательно изучите код, приведенный ниже. Напоминаю, что справку по любой функции можно получить, если поставить перед ней вопросительный знак, например, `?numpy.empty_like`."
   ]
  },
  {
   "cell_type": "code",
   "execution_count": 9,
   "metadata": {
    "collapsed": false
   },
   "outputs": [],
   "source": [
    "dt_values = numpy.array([0.1, 0.05, 0.01, 0.005, 0.001])\n",
    "\n",
    "u_values = numpy.empty_like(dt_values, dtype=numpy.ndarray)\n",
    "\n",
    "for i, dt in enumerate(dt_values):\n",
    "    \n",
    "    N = int(T/dt) + 1    # number of time-steps\n",
    "    \n",
    "    ### discretize the time t ###\n",
    "    t = numpy.linspace(0.0, T, N)\n",
    "    \n",
    "    # initialize the array containing the solution for each time-step\n",
    "    u = numpy.empty((N, 4))\n",
    "    u[0] = numpy.array([v0, theta0, x0, y0])\n",
    "\n",
    "    # time loop\n",
    "    for n in range(N-1):\n",
    "       \n",
    "        u[n+1] = euler_step(u[n], f, dt)   ### call euler_step() ###\n",
    "    \n",
    "    # store the value of u related to one grid\n",
    "    u_values[i] = u"
   ]
  },
  {
   "cell_type": "markdown",
   "metadata": {},
   "source": [
    "Для каждого решения вычислим разницу между ним и решением на подробной сетке. Эту разницу так и тянет назвать \"_ошибкой_\", но это не вполне корректно: решение на подробной сетке _не является точным_, оно просто берется за основу для оценки сходимости метода по сетке. \n",
    "\n",
    "Для вычисления разницы между текущим решением `u_current`и решением на подробной сетке `u_finest`, как и прежде, будем использовать норму $L_1$.\n",
    "\n",
    "Тут возникает проблема. Самая грубая сетка, для которой $\\Delta t = 0.1$, содержит 1001 точку, а подробная, для которой $\\Delta t = 0.001$, — 100001 точку. Как определить, какие точки в этих сетках соответствуют одним и тем же моментам времени в разных решениях?\n",
    "\n",
    "Если, например, имеются сетки с 10 и 100 шагами, это сделать довольно просто. Кажая ячейка 10-шаговой сетки равна по величине десяти ячейкам 100-шаговой.\n",
    "\n",
    "Если известно _отношение_ размеров ячеек для двух сеток, то можно определиь, сколько ячеек подробной сетки заключено в одной ячейке грубой сетки.\n",
    "\n",
    "Вспомним, что из массива NumPy можно выделить _срез_ — подмножество его элементов. Для выдеоения среза используется следующий синтаксис:\n",
    "\n",
    "```Python\n",
    "my_array[3:8]\n",
    "```\n",
    "\n",
    "У срезов есть одна крутая особенность, можно указывать \"шаг среза\". Если добавить дополнительное двоеточие `:` к диапазону среза, то можно напрямую указать, с каким шагом нужно выбирать элементы. Например, такой код\n",
    "\n",
    "```Python\n",
    "my_array[3:8:2]\n",
    "```\n",
    "\n",
    "выдаст значения `my_array[3]`, `my_array[5]` и `my_array[7]`\n",
    "\n",
    "Используя этот инструментарий, можно получить разности решений на грубой и подробной сетках. Поехали!"
   ]
  },
  {
   "cell_type": "code",
   "execution_count": 10,
   "metadata": {
    "collapsed": false
   },
   "outputs": [],
   "source": [
    "def get_diffgrid(u_current, u_fine, dt):\n",
    "    \"\"\"Returns the difference between one grid and the fine one using L-1 norm.\n",
    "    \n",
    "    Parameters\n",
    "    ----------\n",
    "    u_current : array of float\n",
    "        solution on the current grid.\n",
    "    u_finest : array of float\n",
    "        solution on the fine grid.\n",
    "    dt : float\n",
    "        time-increment on the current grid.\n",
    "    \n",
    "    Returns\n",
    "    -------\n",
    "    diffgrid : float\n",
    "        difference computed in the L-1 norm.\n",
    "    \"\"\"\n",
    "    \n",
    "    N_current = len(u_current[:,0])\n",
    "    N_fine = len(u_fine[:,0])\n",
    "   \n",
    "    grid_size_ratio = ceil(N_fine/N_current)\n",
    "    \n",
    "    diffgrid = dt * numpy.sum( numpy.abs(\\\n",
    "            u_current[:,2]- u_fine[::grid_size_ratio,2])) \n",
    "    \n",
    "    return diffgrid"
   ]
  },
  {
   "cell_type": "markdown",
   "metadata": {},
   "source": [
    "Теперь, когда создана необходимая функция, можно вычислить на сколько отличаются решения, полученные на каждой сетке, от решения на подробной. Для этого вызываем функцию `get_diffgrid()` с двумя решениями в качестве аргументов, причем, одним из которых всегда должно быть решение на подробной сетке. Еще одна крутая вещь: в Python индексы могут быть отрицательными! Для того чтобы получть _первый_ элемент массива `my_array`, нужно набрать\n",
    "\n",
    "`my_array[0]`\n",
    "\n",
    "Но можно получить и _последний_ элемент, набрав \n",
    "\n",
    "`my_array[-1]`\n",
    "\n",
    "и предпоследний:\n",
    "\n",
    "`my_array[-2]`\n",
    "\n",
    "и так далее.  "
   ]
  },
  {
   "cell_type": "code",
   "execution_count": 11,
   "metadata": {
    "collapsed": false
   },
   "outputs": [
    {
     "name": "stdout",
     "output_type": "stream",
     "text": [
      "dt = 0.1\n",
      "dt = 0.05\n",
      "dt = 0.01\n",
      "dt = 0.005\n",
      "dt = 0.001\n"
     ]
    }
   ],
   "source": [
    "# compute difference between one grid solution and the finest one\n",
    "diffgrid = numpy.empty_like(dt_values)\n",
    "\n",
    "for i, dt in enumerate(dt_values):\n",
    "    print('dt = {}'.format(dt))\n",
    "\n",
    "    ### call the function get_diffgrid() ###\n",
    "    diffgrid[i] = get_diffgrid(u_values[i], u_values[-1], dt)"
   ]
  },
  {
   "cell_type": "markdown",
   "metadata": {},
   "source": [
    "Можно рисовать график с результатами! Снова воспользуемся функцией [`loglog()`](http://matplotlib.org/api/pyplot_api.html?highlight=loglog#matplotlib.pyplot.loglog), чтобы построить график в логарифмическом масштабе. Не забудьте пропустить разницу подробного решения с самим собой."
   ]
  },
  {
   "cell_type": "code",
   "execution_count": 12,
   "metadata": {
    "collapsed": false
   },
   "outputs": [
    {
     "data": {
      "image/png": "[encoded data removed]",
      "text/plain": [
       "<matplotlib.figure.Figure at 0x8358780>"
      ]
     },
     "metadata": {},
     "output_type": "display_data"
    }
   ],
   "source": [
    "# log-log plot of the grid differences\n",
    "pyplot.figure(figsize=(6,6))\n",
    "pyplot.grid(True)\n",
    "pyplot.xlabel('$\\Delta t$', fontsize=18)\n",
    "pyplot.ylabel('$L_1$-norm of the grid differences', fontsize=18)\n",
    "pyplot.axis('equal')\n",
    "pyplot.loglog(dt_values[:-1], diffgrid[:-1], color='k', ls='-', lw=2, marker='o');"
   ]
  },
  {
   "cell_type": "markdown",
   "metadata": {},
   "source": [
    "### Порядок сходимости"
   ]
  },
  {
   "cell_type": "markdown",
   "metadata": {},
   "source": [
    "Порядок сходимости это скорость, с которой численное решение приближается к точному по мере измельчения расчетной сетки. Учитывая, что мы не сраниваемся с точным решением, воспользуется последовательностью из 3 сеток, которые измельчаются с коэффициентом $r$, для того чтобы найти *наблюдаемый порядок схоимости* ($p$) по формуле:\n",
    "$$\n",
    "\\begin{equation}\n",
    "p = \\frac{\\log \\left(\\frac{f_3-f_2}{f_2-f_1} \\right) }{\\log(r)}\n",
    "\\end{equation}\n",
    "$$\n",
    "\n",
    "где $f_1$ — решение на подробной сетке, а $f_3$ — на грубой.  "
   ]
  },
  {
   "cell_type": "code",
   "execution_count": 13,
   "metadata": {
    "collapsed": false
   },
   "outputs": [
    {
     "name": "stdout",
     "output_type": "stream",
     "text": [
      "The order of convergence is p = 1.014\n"
     ]
    }
   ],
   "source": [
    "r = 2\n",
    "h = 0.001\n",
    "\n",
    "dt_values2 = numpy.array([h, r*h, r**2*h])\n",
    "\n",
    "u_values2 = numpy.empty_like(dt_values2, dtype=numpy.ndarray)\n",
    "\n",
    "diffgrid2 = numpy.empty(2)\n",
    "\n",
    "for i, dt in enumerate(dt_values2):\n",
    "    \n",
    "    N = int(T/dt) + 1   # number of time-steps\n",
    "    \n",
    "    ### discretize the time t ###\n",
    "    t = numpy.linspace(0.0, T, N)\n",
    "    \n",
    "    # initialize the array containing the solution for each time-step\n",
    "    u = numpy.empty((N, 4))\n",
    "    u[0] = numpy.array([v0, theta0, x0, y0])\n",
    "\n",
    "    # time loop\n",
    "    for n in range(N-1):\n",
    "\n",
    "        u[n+1] = euler_step(u[n], f, dt)         ### call euler_step() ###\n",
    "    \n",
    "    # store the value of u related to one grid\n",
    "    u_values2[i] = u\n",
    "    \n",
    "\n",
    "#calculate f2 - f1\n",
    "diffgrid2[0] = get_diffgrid(u_values2[1], u_values2[0], dt_values2[1])\n",
    "\n",
    "#calculate f3 - f2\n",
    "diffgrid2[1] = get_diffgrid(u_values2[2], u_values2[1], dt_values2[2])\n",
    "\n",
    "# calculate the order of convergence\n",
    "p = (log(diffgrid2[1]) - log(diffgrid2[0])) / log(r)\n",
    "\n",
    "print('The order of convergence is p = {:.3f}'.format(p));"
   ]
  },
  {
   "cell_type": "markdown",
   "metadata": {},
   "source": [
    "Видите, как близок полученный порядок сходимости к 1? Это означает, что скорость убывания сеточной разницы совпадает с коэффициентом измельчения сетки. Метод Эйлера — метод первого порядка, и полученный нами результат подтверждает это."
   ]
  },
  {
   "cell_type": "markdown",
   "metadata": {},
   "source": [
    "# Бумажный самолетик"
   ]
  },
  {
   "cell_type": "markdown",
   "metadata": {},
   "source": [
    "Представьте, что вы участвуете в соревновании на дальность полета бумажного самолетика. Воспользуйтесь полученными знаниями по теории фугоидного движения для того, чтобы повысить свои шансы на победу. Для заданного значения аэродинамического качества (оно зависит от модели самолета) и высоты запуска нужно определить, с какой скоростью и под каким углом нужно запустить самолетик, чтобы он пролетел максимальное расстояние.\n",
    "\n",
    "Используя разработанную модель фугоида, напишите программу для анализа полета бумажного самолетика со следующими условиями:\n",
    "\n",
    "\n",
    "*  Качество $L/D = 5.0$ (величина близка к данным статьи Feng et al. 2009)\n",
    "*  Для триммерной скорости используйте значение 4.9 м/с (примерно среднне значение скорости полета из той же работы)\n",
    "*  Определите оптимальный угол и скорость запуска\n",
    "*  Продумайте условие остановки расчета\n",
    "*  Как проверить реалистичность полученных результатов?"
   ]
  },
  {
   "cell_type": "markdown",
   "metadata": {},
   "source": [
    "## Использованные источники"
   ]
  },
  {
   "cell_type": "markdown",
   "metadata": {},
   "source": [
    "* Feng, N. B. et al. _\"On the aerodynamics of paper airplanes\"_, AIAA paper 2009-3958, 27th AIAA Applied Aerodynamics Conference, San Antonio, TX. [PDF](http://arc.aiaa.org/doi/abs/10.2514/6.2009-3958)\n",
    "\n",
    "* Simanca, S. R. and Sutherland, S. _\"Mathematical problem-solving with computers,\"_ 2002 course notes, Stony Brook University, chapter 3: [The Art of Phugoid](https://www.math.sunysb.edu/~scott/Book331/Art_Phugoid.html). (Note that there is an error in the figure: sine and cosine are switched.)"
   ]
  },
  {
   "cell_type": "markdown",
   "metadata": {},
   "source": [
    "---\n",
    "\n",
    "###### The cell below loads the style of the notebook."
   ]
  },
  {
   "cell_type": "code",
   "execution_count": 14,
   "metadata": {
    "collapsed": false
   },
   "outputs": [
    {
     "data": {
      "text/html": [
       "<link href='http://fonts.googleapis.com/css?family=Alegreya+Sans:100,300,400,500,700,800,900,100italic,300italic,400italic,500italic,700italic,800italic,900italic' rel='stylesheet' type='text/css'>\n",
       "<link href='http://fonts.googleapis.com/css?family=Arvo:400,700,400italic' rel='stylesheet' type='text/css'>\n",
       "<link href='http://fonts.googleapis.com/css?family=PT+Mono' rel='stylesheet' type='text/css'>\n",
       "<link href='http://fonts.googleapis.com/css?family=Shadows+Into+Light' rel='stylesheet' type='text/css'>\n",
       "<link href='http://fonts.googleapis.com/css?family=Nixie+One' rel='stylesheet' type='text/css'>\n",
       "<link href='https://fonts.googleapis.com/css?family=Source+Code+Pro' rel='stylesheet' type='text/css'>\n",
       "<style>\n",
       "\n",
       "@font-face {\n",
       "    font-family: \"Computer Modern\";\n",
       "    src: url('http://mirrors.ctan.org/fonts/cm-unicode/fonts/otf/cmunss.otf');\n",
       "}\n",
       "\n",
       "#notebook_panel { /* main background */\n",
       "    background: rgb(245,245,245);\n",
       "}\n",
       "\n",
       "div.cell { /* set cell width */\n",
       "    width: 750px;\n",
       "}\n",
       "\n",
       "div #notebook { /* centre the content */\n",
       "    background: #fff; /* white background for content */\n",
       "    width: 1000px;\n",
       "    margin: auto;\n",
       "    padding-left: 0em;\n",
       "}\n",
       "\n",
       "#notebook li { /* More space between bullet points */\n",
       "    margin-top:0.8em;\n",
       "}\n",
       "\n",
       "/* draw border around running cells */\n",
       "div.cell.border-box-sizing.code_cell.running { \n",
       "    border: 1px solid #111;\n",
       "}\n",
       "\n",
       "/* Put a solid color box around each cell and its output, visually linking them*/\n",
       "div.cell.code_cell {\n",
       "    background-color: rgb(256,256,256); \n",
       "    border-radius: 0px; \n",
       "    padding: 0.5em;\n",
       "    margin-left:1em;\n",
       "    margin-top: 1em;\n",
       "}\n",
       "\n",
       "div.text_cell_render{\n",
       "    font-family: 'Alegreya Sans' sans-serif;\n",
       "    line-height: 140%;\n",
       "    font-size: 125%;\n",
       "    font-weight: 400;\n",
       "    width:600px;\n",
       "    margin-left:auto;\n",
       "    margin-right:auto;\n",
       "}\n",
       "\n",
       "\n",
       "/* Formatting for header cells */\n",
       ".text_cell_render h1 {\n",
       "    font-family: 'Nixie One', serif;\n",
       "    font-style:regular;\n",
       "    font-weight: 400;    \n",
       "    font-size: 45pt;\n",
       "    line-height: 100%;\n",
       "    color: rgb(0,51,102);\n",
       "    margin-bottom: 0.5em;\n",
       "    margin-top: 0.5em;\n",
       "    display: block;\n",
       "}\n",
       "\n",
       ".text_cell_render h2 {\n",
       "    font-family: 'Nixie One', serif;\n",
       "    font-weight: 400;\n",
       "    font-size: 30pt;\n",
       "    line-height: 100%;\n",
       "    color: rgb(0,51,102);\n",
       "    margin-bottom: 0.1em;\n",
       "    margin-top: 0.3em;\n",
       "    display: block;\n",
       "}\t\n",
       "\n",
       ".text_cell_render h3 {\n",
       "    font-family: 'Nixie One', serif;\n",
       "    margin-top:16px;\n",
       "    font-size: 22pt;\n",
       "    font-weight: 600;\n",
       "    margin-bottom: 3px;\n",
       "    font-style: regular;\n",
       "    color: rgb(102,102,0);\n",
       "}\n",
       "\n",
       ".text_cell_render h4 {    /*Use this for captions*/\n",
       "    font-family: 'Nixie One', serif;\n",
       "    font-size: 14pt;\n",
       "    text-align: center;\n",
       "    margin-top: 0em;\n",
       "    margin-bottom: 2em;\n",
       "    font-style: regular;\n",
       "}\n",
       "\n",
       ".text_cell_render h5 {  /*Use this for small titles*/\n",
       "    font-family: 'Nixie One', sans-serif;\n",
       "    font-weight: 400;\n",
       "    font-size: 16pt;\n",
       "    color: rgb(163,0,0);\n",
       "    font-style: italic;\n",
       "    margin-bottom: .1em;\n",
       "    margin-top: 0.8em;\n",
       "    display: block;\n",
       "}\n",
       "\n",
       ".text_cell_render h6 { /*use this for copyright note*/\n",
       "    font-family: 'PT Mono', sans-serif;\n",
       "    font-weight: 300;\n",
       "    font-size: 9pt;\n",
       "    line-height: 100%;\n",
       "    color: grey;\n",
       "    margin-bottom: 1px;\n",
       "    margin-top: 1px;\n",
       "}\n",
       "\n",
       ".CodeMirror{\n",
       "    font-family: \"Source Code Pro\";\n",
       "    font-size: 90%;\n",
       "}\n",
       "\n",
       ".alert-box {\n",
       "    padding:10px 10px 10px 36px;\n",
       "    margin:5px;\n",
       "}\n",
       "\n",
       ".success {\n",
       "    color:#666600;\n",
       "    background:rgb(240,242,229);\n",
       "}\n",
       "</style>\n",
       "<script>\n",
       "    MathJax.Hub.Config({\n",
       "                        TeX: {\n",
       "                           extensions: [\"AMSmath.js\"],\n",
       "                           equationNumbers: { autoNumber: \"AMS\", useLabelIds: true}\n",
       "                           },\n",
       "                tex2jax: {\n",
       "                    inlineMath: [ ['$','$'], [\"\\\\(\",\"\\\\)\"] ],\n",
       "                    displayMath: [ ['$$','$$'], [\"\\\\[\",\"\\\\]\"] ]\n",
       "                },\n",
       "                displayAlign: 'center', // Change this to 'center' to center equations.\n",
       "                \"HTML-CSS\": {\n",
       "                    styles: {'.MathJax_Display': {\"margin\": 4}}\n",
       "                }\n",
       "        });\n",
       "</script>\n"
      ],
      "text/plain": [
       "<IPython.core.display.HTML object>"
      ]
     },
     "execution_count": 14,
     "metadata": {},
     "output_type": "execute_result"
    }
   ],
   "source": [
    "from IPython.core.display import HTML\n",
    "css_file = '../../styles/numericalmoocstyle.css'\n",
    "HTML(open(css_file, \"r\").read())"
   ]
  }
 ],
 "metadata": {
  "anaconda-cloud": {},
  "kernelspec": {
   "display_name": "Python [Root]",
   "language": "python",
   "name": "Python [Root]"
  },
  "language_info": {
   "codemirror_mode": {
    "name": "ipython",
    "version": 3
   },
   "file_extension": ".py",
   "mimetype": "text/x-python",
   "name": "python",
   "nbconvert_exporter": "python",
   "pygments_lexer": "ipython3",
   "version": "3.5.2"
  }
 },
 "nbformat": 4,
 "nbformat_minor": 0
}
